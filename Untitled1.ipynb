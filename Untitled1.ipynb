{
 "cells": [
  {
   "cell_type": "code",
   "execution_count": null,
   "metadata": {
    "colab": {
     "autoexec": {
      "startup": false,
      "wait_interval": 0
     }
    },
    "colab_type": "code",
    "id": "b3TPg_I1_5Ji"
   },
   "outputs": [],
   "source": [
    "# -*- coding: utf-8 -*-\n",
    "'''VGG16-places365 model for Keras\n",
    "# Reference:\n",
    "- [Places: A 10 million Image Database for Scene Recognition](http://places2.csail.mit.edu/PAMI_places.pdf)\n",
    "'''\n",
    "\n",
    "from __future__ import division, print_function\n",
    "import os\n",
    "\n",
    "import warnings\n",
    "import numpy as np\n",
    "\n",
    "from keras import backend as K\n",
    "from keras.layers import Input\n",
    "from keras.layers.core import Activation, Dense, Flatten\n",
    "from keras.layers.pooling import MaxPooling2D\n",
    "from keras.models import Model\n",
    "from keras.layers import Conv2D\n",
    "from keras.regularizers import l2\n",
    "from keras.layers.core import Dropout\n",
    "from keras.layers import GlobalAveragePooling2D\n",
    "from keras.layers import GlobalMaxPooling2D\n",
    "from keras.applications.imagenet_utils import _obtain_input_shape\n",
    "from keras.engine.topology import get_source_inputs\n",
    "from keras.utils.data_utils import get_file\n",
    "from keras.utils import layer_utils\n",
    "from keras.preprocessing import image\n",
    "from keras.applications.imagenet_utils import preprocess_input\n",
    "\n",
    "WEIGHTS_PATH = 'https://github.com/GKalliatakis/Keras-VGG16-places365/releases/download/v1.0/vgg16-places365_weights_tf_dim_ordering_tf_kernels.h5'\n",
    "WEIGHTS_PATH_NO_TOP = 'https://github.com/GKalliatakis/Keras-VGG16-places365/releases/download/v1.0/vgg16-places365_weights_tf_dim_ordering_tf_kernels_notop.h5'\n",
    "\n",
    "\n",
    "def VGG16_Places365(include_top=True, weights='places',\n",
    "                    input_tensor=None, input_shape=None,\n",
    "                    pooling=None,\n",
    "                    classes=365):\n",
    "\n",
    "    if not (weights in {'places', None} or os.path.exists(weights)):\n",
    "        raise ValueError('The `weights` argument should be either '\n",
    "                         '`None` (random initialization), `places` '\n",
    "                         '(pre-training on Places), '\n",
    "                         'or the path to the weights file to be loaded.')\n",
    "\n",
    "    if weights == 'places' and include_top and classes != 365:\n",
    "        raise ValueError('If using `weights` as places with `include_top`'\n",
    "                         ' as true, `classes` should be 365')\n",
    "\n",
    "\n",
    "    # Determine proper input shape\n",
    "    input_shape = _obtain_input_shape(input_shape,\n",
    "                                      default_size=224,\n",
    "                                      min_size=48,\n",
    "                                      data_format=K.image_data_format(),\n",
    "                                      require_flatten =include_top)\n",
    "\n",
    "    if input_tensor is None:\n",
    "        img_input = Input(shape=input_shape)\n",
    "    else:\n",
    "        if not K.is_keras_tensor(input_tensor):\n",
    "            img_input = Input(tensor=input_tensor, shape=input_shape)\n",
    "        else:\n",
    "            img_input = input_tensor\n",
    "\n",
    "    # Block 1\n",
    "    x = Conv2D(filters=64, kernel_size=3, strides=(1, 1), padding='same',\n",
    "               kernel_regularizer=l2(0.0002),\n",
    "               activation='relu', name='block1_conv1')(img_input)\n",
    "\n",
    "    x = Conv2D(filters=64, kernel_size=3, strides=(1, 1), padding='same',\n",
    "               kernel_regularizer=l2(0.0002),\n",
    "               activation='relu', name='block1_conv2')(x)\n",
    "\n",
    "    x = MaxPooling2D(pool_size=(2, 2), strides=(2, 2), name=\"block1_pool\", padding='valid')(x)\n",
    "\n",
    "    # Block 2\n",
    "    x = Conv2D(filters=128, kernel_size=3, strides=(1, 1), padding='same',\n",
    "               kernel_regularizer=l2(0.0002),\n",
    "               activation='relu', name='block2_conv1')(x)\n",
    "\n",
    "    x = Conv2D(filters=128, kernel_size=3, strides=(1, 1), padding='same',\n",
    "               kernel_regularizer=l2(0.0002),\n",
    "               activation='relu', name='block2_conv2')(x)\n",
    "\n",
    "    x = MaxPooling2D(pool_size=(2, 2), strides=(2, 2), name=\"block2_pool\", padding='valid')(x)\n",
    "\n",
    "    # Block 3\n",
    "    x = Conv2D(filters=256, kernel_size=3, strides=(1, 1), padding='same',\n",
    "               kernel_regularizer=l2(0.0002),\n",
    "               activation='relu', name='block3_conv1')(x)\n",
    "\n",
    "    x = Conv2D(filters=256, kernel_size=3, strides=(1, 1), padding='same',\n",
    "               kernel_regularizer=l2(0.0002),\n",
    "               activation='relu', name='block3_conv2')(x)\n",
    "\n",
    "    x = Conv2D(filters=256, kernel_size=3, strides=(1, 1), padding='same',\n",
    "               kernel_regularizer=l2(0.0002),\n",
    "               activation='relu', name='block3_conv3')(x)\n",
    "\n",
    "    x = MaxPooling2D(pool_size=(2, 2), strides=(2, 2), name=\"block3_pool\", padding='valid')(x)\n",
    "\n",
    "    # Block 4\n",
    "    x = Conv2D(filters=512, kernel_size=3, strides=(1, 1), padding='same',\n",
    "               kernel_regularizer=l2(0.0002),\n",
    "               activation='relu', name='block4_conv1')(x)\n",
    "\n",
    "    x = Conv2D(filters=512, kernel_size=3, strides=(1, 1), padding='same',\n",
    "               kernel_regularizer=l2(0.0002),\n",
    "               activation='relu', name='block4_conv2')(x)\n",
    "\n",
    "    x = Conv2D(filters=512, kernel_size=3, strides=(1, 1), padding='same',\n",
    "               kernel_regularizer=l2(0.0002),\n",
    "               activation='relu', name='block4_conv3')(x)\n",
    "\n",
    "    x = MaxPooling2D(pool_size=(2, 2), strides=(2, 2), name=\"block4_pool\", padding='valid')(x)\n",
    "\n",
    "    # Block 5\n",
    "    x = Conv2D(filters=512, kernel_size=3, strides=(1, 1), padding='same',\n",
    "               kernel_regularizer=l2(0.0002),\n",
    "               activation='relu', name='block5_conv1')(x)\n",
    "\n",
    "    x = Conv2D(filters=512, kernel_size=3, strides=(1, 1), padding='same',\n",
    "               kernel_regularizer=l2(0.0002),\n",
    "               activation='relu', name='block5_conv2')(x)\n",
    "\n",
    "    x = Conv2D(filters=512, kernel_size=3, strides=(1, 1), padding='same',\n",
    "               kernel_regularizer=l2(0.0002),\n",
    "               activation='relu', name='block5_conv3')(x)\n",
    "\n",
    "    x = MaxPooling2D(pool_size=(2, 2), strides=(2, 2), name=\"block5_pool\", padding='valid')(x)\n",
    "\n",
    "    if include_top:\n",
    "        # Classification block\n",
    "        x = Flatten(name='flatten')(x)\n",
    "        x = Dense(4096, activation='relu', name='fc1')(x)\n",
    "        x = Dropout(0.5, name='drop_fc1')(x)\n",
    "\n",
    "        x = Dense(4096, activation='relu', name='fc2')(x)\n",
    "        x = Dropout(0.5, name='drop_fc2')(x)\n",
    "        \n",
    "        x = Dense(365, activation='softmax', name=\"predictions\")(x)\n",
    "\n",
    "    else:\n",
    "        if pooling == 'avg':\n",
    "            x = GlobalAveragePooling2D()(x)\n",
    "        elif pooling == 'max':\n",
    "            x = GlobalMaxPooling2D()(x)\n",
    "\n",
    "    # Ensure that the model takes into account\n",
    "    # any potential predecessors of `input_tensor`.\n",
    "    if input_tensor is not None:\n",
    "        inputs = get_source_inputs(input_tensor)\n",
    "    else:\n",
    "        inputs = img_input\n",
    "\n",
    "    # Create model.\n",
    "    model = Model(inputs, x, name='vgg16-places365')\n",
    "\n",
    "    # load weights\n",
    "    if weights == 'places':\n",
    "        if include_top:\n",
    "            weights_path = get_file('vgg16-places365_weights_tf_dim_ordering_tf_kernels.h5',\n",
    "                                    WEIGHTS_PATH,\n",
    "                                    cache_subdir='models')\n",
    "        else:\n",
    "            weights_path = get_file('vgg16-places365_weights_tf_dim_ordering_tf_kernels_notop.h5',\n",
    "                                    WEIGHTS_PATH_NO_TOP,\n",
    "                                    cache_subdir='models')\n",
    "\n",
    "        model.load_weights(weights_path)\n",
    "\n",
    "        if K.backend() == 'theano':\n",
    "            layer_utils.convert_all_kernels_in_model(model)\n",
    "\n",
    "        if K.image_data_format() == 'channels_first':\n",
    "            if include_top:\n",
    "                maxpool = model.get_layer(name='block5_pool')\n",
    "                shape = maxpool.output_shape[1:]\n",
    "                dense = model.get_layer(name='fc1')\n",
    "                layer_utils.convert_dense_weights_data_format(dense, shape, 'channels_first')\n",
    "\n",
    "            if K.backend() == 'tensorflow':\n",
    "                warnings.warn('You are using the TensorFlow backend, yet you '\n",
    "                              'are using the Theano '\n",
    "                              'image data format convention '\n",
    "                              '(`image_data_format=\"channels_first\"`). '\n",
    "                              'For best performance, set '\n",
    "                              '`image_data_format=\"channels_last\"` in '\n",
    "                              'your Keras config '\n",
    "                              'at ~/.keras/keras.json.')\n",
    "\n",
    "    elif weights is not None:\n",
    "        model.load_weights(weights)\n",
    "\n",
    "    return model\n"
   ]
  },
  {
   "cell_type": "code",
   "execution_count": null,
   "metadata": {
    "colab": {
     "autoexec": {
      "startup": false,
      "wait_interval": 0
     }
    },
    "colab_type": "code",
    "id": "mtvUU_jN_5Jm"
   },
   "outputs": [],
   "source": [
    "import pickle\n",
    "import numpy as np\n",
    "def load_pickle(file):\n",
    "    with open(file, 'rb') as handle:\n",
    "        detected = pickle.load(handle)\n",
    "    return detected\n"
   ]
  },
  {
   "cell_type": "code",
   "execution_count": null,
   "metadata": {
    "colab": {
     "autoexec": {
      "startup": false,
      "wait_interval": 0
     }
    },
    "colab_type": "code",
    "id": "AWiAXh2n_5Jp"
   },
   "outputs": [],
   "source": [
    "#model = VGG16_Hubrid_1365()\n",
    "model = VGG16_Places365(weights='places')"
   ]
  },
  {
   "cell_type": "code",
   "execution_count": null,
   "metadata": {
    "colab": {
     "autoexec": {
      "startup": false,
      "wait_interval": 0
     }
    },
    "colab_type": "code",
    "id": "BoXPG-T1_5Jr",
    "outputId": "c1adfa37-fb45-441a-8c91-c236e5f618b9"
   },
   "outputs": [
    {
     "name": "stdout",
     "output_type": "stream",
     "text": [
      "_________________________________________________________________\n",
      "Layer (type)                 Output Shape              Param #   \n",
      "=================================================================\n",
      "input_3 (InputLayer)         (None, 224, 224, 3)       0         \n",
      "_________________________________________________________________\n",
      "block1_conv1 (Conv2D)        (None, 224, 224, 64)      1792      \n",
      "_________________________________________________________________\n",
      "block1_conv2 (Conv2D)        (None, 224, 224, 64)      36928     \n",
      "_________________________________________________________________\n",
      "block1_pool (MaxPooling2D)   (None, 112, 112, 64)      0         \n",
      "_________________________________________________________________\n",
      "block2_conv1 (Conv2D)        (None, 112, 112, 128)     73856     \n",
      "_________________________________________________________________\n",
      "block2_conv2 (Conv2D)        (None, 112, 112, 128)     147584    \n",
      "_________________________________________________________________\n",
      "block2_pool (MaxPooling2D)   (None, 56, 56, 128)       0         \n",
      "_________________________________________________________________\n",
      "block3_conv1 (Conv2D)        (None, 56, 56, 256)       295168    \n",
      "_________________________________________________________________\n",
      "block3_conv2 (Conv2D)        (None, 56, 56, 256)       590080    \n",
      "_________________________________________________________________\n",
      "block3_conv3 (Conv2D)        (None, 56, 56, 256)       590080    \n",
      "_________________________________________________________________\n",
      "block3_pool (MaxPooling2D)   (None, 28, 28, 256)       0         \n",
      "_________________________________________________________________\n",
      "block4_conv1 (Conv2D)        (None, 28, 28, 512)       1180160   \n",
      "_________________________________________________________________\n",
      "block4_conv2 (Conv2D)        (None, 28, 28, 512)       2359808   \n",
      "_________________________________________________________________\n",
      "block4_conv3 (Conv2D)        (None, 28, 28, 512)       2359808   \n",
      "_________________________________________________________________\n",
      "block4_pool (MaxPooling2D)   (None, 14, 14, 512)       0         \n",
      "_________________________________________________________________\n",
      "block5_conv1 (Conv2D)        (None, 14, 14, 512)       2359808   \n",
      "_________________________________________________________________\n",
      "block5_conv2 (Conv2D)        (None, 14, 14, 512)       2359808   \n",
      "_________________________________________________________________\n",
      "block5_conv3 (Conv2D)        (None, 14, 14, 512)       2359808   \n",
      "_________________________________________________________________\n",
      "block5_pool (MaxPooling2D)   (None, 7, 7, 512)         0         \n",
      "_________________________________________________________________\n",
      "flatten (Flatten)            (None, 25088)             0         \n",
      "_________________________________________________________________\n",
      "fc1 (Dense)                  (None, 4096)              102764544 \n",
      "_________________________________________________________________\n",
      "drop_fc1 (Dropout)           (None, 4096)              0         \n",
      "_________________________________________________________________\n",
      "fc2 (Dense)                  (None, 4096)              16781312  \n",
      "_________________________________________________________________\n",
      "drop_fc2 (Dropout)           (None, 4096)              0         \n",
      "_________________________________________________________________\n",
      "predictions (Dense)          (None, 365)               1495405   \n",
      "=================================================================\n",
      "Total params: 135,755,949\n",
      "Trainable params: 135,755,949\n",
      "Non-trainable params: 0\n",
      "_________________________________________________________________\n"
     ]
    }
   ],
   "source": [
    "model.summary()"
   ]
  },
  {
   "cell_type": "code",
   "execution_count": null,
   "metadata": {
    "colab": {
     "autoexec": {
      "startup": false,
      "wait_interval": 0
     }
    },
    "colab_type": "code",
    "id": "3QjGyRQM_5Jv"
   },
   "outputs": [],
   "source": [
    "x_data = load_pickle('x_data.pickle')"
   ]
  },
  {
   "cell_type": "code",
   "execution_count": null,
   "metadata": {
    "colab": {
     "autoexec": {
      "startup": false,
      "wait_interval": 0
     }
    },
    "colab_type": "code",
    "id": "7JJi94u-_5Jy"
   },
   "outputs": [],
   "source": [
    "y_data = np.zeros((x_data.shape[0],4))\n",
    "y_data[0:983] = (1,0,0,0)\n",
    "y_data[983:1975] = (0,1,0,0)\n",
    "y_data[1975:2966] = (0,0,1,0)\n",
    "y_data[2966:] = (0,0,0,1)"
   ]
  },
  {
   "cell_type": "code",
   "execution_count": null,
   "metadata": {
    "colab": {
     "autoexec": {
      "startup": false,
      "wait_interval": 0
     }
    },
    "colab_type": "code",
    "id": "DGfvAhzc_5J0",
    "outputId": "f5f7a816-f6a7-494a-a4e6-f76ea5db05c4"
   },
   "outputs": [
    {
     "data": {
      "text/plain": [
       "<keras.layers.core.Dense at 0x7f40eb968128>"
      ]
     },
     "execution_count": 15,
     "metadata": {
      "tags": []
     },
     "output_type": "execute_result"
    }
   ],
   "source": [
    "model.layers.pop()"
   ]
  },
  {
   "cell_type": "code",
   "execution_count": null,
   "metadata": {
    "colab": {
     "autoexec": {
      "startup": false,
      "wait_interval": 0
     }
    },
    "colab_type": "code",
    "id": "gyNkCygw_5J4",
    "outputId": "7be0b9cf-14b5-4bcc-cdcc-4950fbae6dee"
   },
   "outputs": [
    {
     "name": "stdout",
     "output_type": "stream",
     "text": [
      "_________________________________________________________________\n",
      "Layer (type)                 Output Shape              Param #   \n",
      "=================================================================\n",
      "input_3 (InputLayer)         (None, 224, 224, 3)       0         \n",
      "_________________________________________________________________\n",
      "block1_conv1 (Conv2D)        (None, 224, 224, 64)      1792      \n",
      "_________________________________________________________________\n",
      "block1_conv2 (Conv2D)        (None, 224, 224, 64)      36928     \n",
      "_________________________________________________________________\n",
      "block1_pool (MaxPooling2D)   (None, 112, 112, 64)      0         \n",
      "_________________________________________________________________\n",
      "block2_conv1 (Conv2D)        (None, 112, 112, 128)     73856     \n",
      "_________________________________________________________________\n",
      "block2_conv2 (Conv2D)        (None, 112, 112, 128)     147584    \n",
      "_________________________________________________________________\n",
      "block2_pool (MaxPooling2D)   (None, 56, 56, 128)       0         \n",
      "_________________________________________________________________\n",
      "block3_conv1 (Conv2D)        (None, 56, 56, 256)       295168    \n",
      "_________________________________________________________________\n",
      "block3_conv2 (Conv2D)        (None, 56, 56, 256)       590080    \n",
      "_________________________________________________________________\n",
      "block3_conv3 (Conv2D)        (None, 56, 56, 256)       590080    \n",
      "_________________________________________________________________\n",
      "block3_pool (MaxPooling2D)   (None, 28, 28, 256)       0         \n",
      "_________________________________________________________________\n",
      "block4_conv1 (Conv2D)        (None, 28, 28, 512)       1180160   \n",
      "_________________________________________________________________\n",
      "block4_conv2 (Conv2D)        (None, 28, 28, 512)       2359808   \n",
      "_________________________________________________________________\n",
      "block4_conv3 (Conv2D)        (None, 28, 28, 512)       2359808   \n",
      "_________________________________________________________________\n",
      "block4_pool (MaxPooling2D)   (None, 14, 14, 512)       0         \n",
      "_________________________________________________________________\n",
      "block5_conv1 (Conv2D)        (None, 14, 14, 512)       2359808   \n",
      "_________________________________________________________________\n",
      "block5_conv2 (Conv2D)        (None, 14, 14, 512)       2359808   \n",
      "_________________________________________________________________\n",
      "block5_conv3 (Conv2D)        (None, 14, 14, 512)       2359808   \n",
      "_________________________________________________________________\n",
      "block5_pool (MaxPooling2D)   (None, 7, 7, 512)         0         \n",
      "_________________________________________________________________\n",
      "flatten (Flatten)            (None, 25088)             0         \n",
      "_________________________________________________________________\n",
      "fc1 (Dense)                  (None, 4096)              102764544 \n",
      "_________________________________________________________________\n",
      "drop_fc1 (Dropout)           (None, 4096)              0         \n",
      "_________________________________________________________________\n",
      "fc2 (Dense)                  (None, 4096)              16781312  \n",
      "_________________________________________________________________\n",
      "drop_fc2 (Dropout)           (None, 4096)              0         \n",
      "=================================================================\n",
      "Total params: 134,260,544\n",
      "Trainable params: 134,260,544\n",
      "Non-trainable params: 0\n",
      "_________________________________________________________________\n"
     ]
    }
   ],
   "source": [
    "model.summary()"
   ]
  },
  {
   "cell_type": "code",
   "execution_count": null,
   "metadata": {
    "colab": {
     "autoexec": {
      "startup": false,
      "wait_interval": 0
     }
    },
    "colab_type": "code",
    "id": "DDtxdV8s_5J8",
    "outputId": "409318bb-487a-49a3-9751-d2c04ed4054d"
   },
   "outputs": [
    {
     "name": "stderr",
     "output_type": "stream",
     "text": [
      "/usr/local/lib/python3.6/dist-packages/ipykernel_launcher.py:32: UserWarning: Update your `Model` call to the Keras 2 API: `Model(inputs=Tensor(\"in..., outputs=Tensor(\"de...)`\n"
     ]
    },
    {
     "name": "stdout",
     "output_type": "stream",
     "text": [
      "Train on 2771 samples, validate on 394 samples\n",
      "Epoch 1/9\n",
      "2771/2771 [==============================] - 33s 12ms/step - loss: 0.6902 - acc: 0.8917 - val_loss: 0.4979 - val_acc: 0.9391\n",
      "Epoch 2/9\n",
      "2771/2771 [==============================] - 32s 12ms/step - loss: 0.5374 - acc: 0.9184 - val_loss: 0.5046 - val_acc: 0.9315\n",
      "Epoch 3/9\n",
      "2771/2771 [==============================] - 32s 12ms/step - loss: 0.5480 - acc: 0.9145 - val_loss: 0.4854 - val_acc: 0.9289\n",
      "Epoch 4/9\n",
      "2771/2771 [==============================] - 32s 12ms/step - loss: 0.5323 - acc: 0.9177 - val_loss: 0.4788 - val_acc: 0.9365\n",
      "Epoch 5/9\n",
      "2771/2771 [==============================] - 32s 12ms/step - loss: 0.5257 - acc: 0.9228 - val_loss: 0.4860 - val_acc: 0.9264\n",
      "Epoch 6/9\n",
      "2771/2771 [==============================] - 32s 12ms/step - loss: 0.5018 - acc: 0.9311 - val_loss: 0.5100 - val_acc: 0.9340\n",
      "Epoch 7/9\n",
      "2771/2771 [==============================] - 32s 12ms/step - loss: 0.5054 - acc: 0.9213 - val_loss: 0.4726 - val_acc: 0.9442\n",
      "Epoch 8/9\n",
      "2771/2771 [==============================] - 32s 12ms/step - loss: 0.5249 - acc: 0.9166 - val_loss: 0.4564 - val_acc: 0.9391\n",
      "Epoch 9/9\n",
      "2771/2771 [==============================] - 32s 12ms/step - loss: 0.5404 - acc: 0.9170 - val_loss: 0.4974 - val_acc: 0.9315\n",
      "792/792 [==============================] - 8s 10ms/step\n"
     ]
    }
   ],
   "source": [
    "from keras.preprocessing.image import ImageDataGenerator\n",
    "from sklearn.model_selection import KFold\n",
    "\n",
    "for layer in model.layers:\n",
    "    layer.trainable = False\n",
    "\n",
    "index = np.arange(0,x_data.shape[0])\n",
    "np.random.shuffle(index)\n",
    "\n",
    "train_index = int(x_data.shape[0]*70/100)\n",
    "val_num = int(x_data.shape[0]*10/100)\n",
    "\n",
    "x_data = x_data[index]\n",
    "y_data = y_data[index]\n",
    "\n",
    "x_train = x_data[0:train_index,:]\n",
    "y_train = y_data[0:train_index,:]\n",
    "x_val = x_data[train_index+ 1:train_index+ val_num,:]\n",
    "y_val = y_data[train_index+ 1:train_index+ val_num,:]\n",
    "x_test = x_data[train_index+ val_num+1:,:]\n",
    "y_test = y_data[train_index+ val_num+1:,:]\n",
    "\n",
    "#Adding custom Layers \n",
    "x = model.output\n",
    "x = Dense(1024,activation='relu')(x)\n",
    "x = Dropout(0.5)(x)\n",
    "x = Dense(1024,activation='relu')(x)\n",
    "x = Dropout(0.5)(x)\n",
    "predictions = Dense(4, activation=\"softmax\")(x)\n",
    "\n",
    "# creating the final model \n",
    "model_final = Model(input = model.input, output = predictions)\n",
    "\n",
    "# compile the model \n",
    "model_final.compile(loss = \"categorical_crossentropy\", optimizer = keras.optimizers.Adam(lr=0.001, beta_1=0.9, beta_2=0.999, epsilon=None, decay=0.0, amsgrad=False), metrics=[\"accuracy\"])\n",
    "\n",
    "history = model_final.fit(x=x_train,y=y_train,validation_data=(x_val,y_val),batch_size=50,epochs=9)\n",
    "scores = model_final.evaluate(x_test,y_test,batch_size = 50)"
   ]
  },
  {
   "cell_type": "code",
   "execution_count": null,
   "metadata": {
    "colab": {
     "autoexec": {
      "startup": false,
      "wait_interval": 0
     }
    },
    "colab_type": "code",
    "id": "iGqK-Z1b_5KA",
    "outputId": "62195ca3-9b29-4787-f8e6-0eda3f5f7191"
   },
   "outputs": [
    {
     "name": "stdout",
     "output_type": "stream",
     "text": [
      "3959/3959 [==============================] - 41s 10ms/step\n"
     ]
    }
   ],
   "source": [
    "scores = model_final.evaluate(x_data,y_data,batch_size = 50)"
   ]
  },
  {
   "cell_type": "code",
   "execution_count": null,
   "metadata": {
    "colab": {
     "autoexec": {
      "startup": false,
      "wait_interval": 0
     }
    },
    "colab_type": "code",
    "id": "EF_sdgA9_5KD",
    "outputId": "63913ec8-9f31-47a5-88a0-ebd5ec25d3ee"
   },
   "outputs": [
    {
     "data": {
      "text/plain": [
       "[0.392722604649029, 0.9643849450309158]"
      ]
     },
     "execution_count": 25,
     "metadata": {
      "tags": []
     },
     "output_type": "execute_result"
    }
   ],
   "source": [
    "prediction"
   ]
  },
  {
   "cell_type": "code",
   "execution_count": null,
   "metadata": {
    "colab": {
     "autoexec": {
      "startup": false,
      "wait_interval": 0
     }
    },
    "colab_type": "code",
    "id": "GQCdKTXu_5KK"
   },
   "outputs": [],
   "source": [
    "model_final.save('final_model.h5')\n",
    "model_final.save_weights('final_model_weight.h5')"
   ]
  },
  {
   "cell_type": "code",
   "execution_count": null,
   "metadata": {
    "colab": {
     "autoexec": {
      "startup": false,
      "wait_interval": 0
     }
    },
    "colab_type": "code",
    "id": "qQCEVdTw_5KL",
    "outputId": "52615d85-01de-4f62-bd9f-6b0f86b6029f"
   },
   "outputs": [
    {
     "name": "stderr",
     "output_type": "stream",
     "text": [
      "Using TensorFlow backend.\n"
     ]
    }
   ],
   "source": [
    "from keras.models import load_model"
   ]
  },
  {
   "cell_type": "code",
   "execution_count": null,
   "metadata": {
    "colab": {
     "autoexec": {
      "startup": false,
      "wait_interval": 0
     }
    },
    "colab_type": "code",
    "id": "okQUOekq_5KQ"
   },
   "outputs": [],
   "source": [
    "model_final = load_model('final_model.h5')\n",
    "model_final.load_weights('final_model_weight.h5')"
   ]
  },
  {
   "cell_type": "code",
   "execution_count": null,
   "metadata": {
    "colab": {
     "autoexec": {
      "startup": false,
      "wait_interval": 0
     }
    },
    "colab_type": "code",
    "id": "__v2_BN4_5KS",
    "outputId": "ddba051a-0415-473e-d1e5-b120ecd88a3a"
   },
   "outputs": [
    {
     "name": "stdout",
     "output_type": "stream",
     "text": [
      "3808/3808 [==============================] - 42s 11ms/step\n"
     ]
    }
   ],
   "source": [
    "import xml.etree.ElementTree as ET\n",
    "import sys\n",
    "import cv2\n",
    "import numpy as np\n",
    "CATEGORIED = ['bathrooms','bedrooms','kitchen','livingrooms']\n",
    "def get_data():\n",
    "    CHECKED_DIR = 'checked_data/'\n",
    "    y_data = np.zeros((4,)).T\n",
    "    x_data = []\n",
    "    for category in CATEGORIED:\n",
    "        tree = ET.parse(CHECKED_DIR+category+'.xml')\n",
    "        root = tree.getroot()\n",
    "        root=root[2];\n",
    "        for child in root.findall('image'):\n",
    "            image = cv2.imread('preprocess/'+child.get('file'))\n",
    "            resize = cv2.resize(image,(224,224))\n",
    "            x_data.append(resize)\n",
    "            y = np.zeros((4,))\n",
    "            y[CATEGORIED.index(category)] = 1\n",
    "            y_data = np.vstack((y_data,y))\n",
    "\n",
    "    y_data = y_data[1:,:]\n",
    "    return np.array(x_data),y_data\n",
    "x_pre,y_pre = get_data()\n",
    "score = model_final.evaluate(x_pre,y_pre, batch_size=50)\n",
    "\n"
   ]
  },
  {
   "cell_type": "code",
   "execution_count": null,
   "metadata": {
    "colab": {
     "autoexec": {
      "startup": false,
      "wait_interval": 0
     }
    },
    "colab_type": "code",
    "id": "_DQLw8oI_5KX",
    "outputId": "b0f8c736-e1f4-4f06-b01d-2287db688943"
   },
   "outputs": [
    {
     "data": {
      "text/plain": [
       "[0.3890578639263115, 0.9627100864754004]"
      ]
     },
     "execution_count": 13,
     "metadata": {
      "tags": []
     },
     "output_type": "execute_result"
    }
   ],
   "source": [
    "score"
   ]
  },
  {
   "cell_type": "code",
   "execution_count": null,
   "metadata": {
    "colab": {
     "autoexec": {
      "startup": false,
      "wait_interval": 0
     }
    },
    "colab_type": "code",
    "id": "TUCZ5_ZT_5Ka"
   },
   "outputs": [],
   "source": [
    "prediction = model.predict(x_data)"
   ]
  },
  {
   "cell_type": "code",
   "execution_count": null,
   "metadata": {
    "colab": {
     "autoexec": {
      "startup": false,
      "wait_interval": 0
     }
    },
    "colab_type": "code",
    "id": "MdXJRQIY_5Kc"
   },
   "outputs": [],
   "source": []
  },
  {
   "cell_type": "code",
   "execution_count": null,
   "metadata": {
    "colab": {
     "autoexec": {
      "startup": false,
      "wait_interval": 0
     }
    },
    "colab_type": "code",
    "id": "9SaLTfHq_5Kf"
   },
   "outputs": [],
   "source": [
    "CATEGORIES = ['bathroom','bedroom','kitchen','livingroom']\n",
    "result = prediction[:,[45,52,203,215]]"
   ]
  },
  {
   "cell_type": "code",
   "execution_count": null,
   "metadata": {
    "colab": {
     "autoexec": {
      "startup": false,
      "wait_interval": 0
     }
    },
    "colab_type": "code",
    "id": "XAmBL98K_5Ki",
    "outputId": "30af97c7-b42b-4bd0-bcac-0e8c933fdfe8"
   },
   "outputs": [
    {
     "data": {
      "text/plain": [
       "(3959, 4)"
      ]
     },
     "execution_count": 20,
     "metadata": {
      "tags": []
     },
     "output_type": "execute_result"
    }
   ],
   "source": [
    "result.shape"
   ]
  },
  {
   "cell_type": "code",
   "execution_count": null,
   "metadata": {
    "colab": {
     "autoexec": {
      "startup": false,
      "wait_interval": 0
     }
    },
    "colab_type": "code",
    "id": "4b3lQer7_5Kl"
   },
   "outputs": [],
   "source": [
    "import matplotlib.pyplot as plt\n",
    "import numpy as np"
   ]
  },
  {
   "cell_type": "code",
   "execution_count": null,
   "metadata": {
    "colab": {
     "autoexec": {
      "startup": false,
      "wait_interval": 0
     }
    },
    "colab_type": "code",
    "id": "wnm5mNav_5Ko",
    "outputId": "008a24ef-b27d-446e-d36a-9720093e1c9d"
   },
   "outputs": [
    {
     "name": "stdout",
     "output_type": "stream",
     "text": [
      "real label : livingroom,predict value : bedroom\n"
     ]
    },
    {
     "data": {
      "image/png": "[encoded data removed]",
      "text/plain": [
       "<matplotlib.figure.Figure at 0x7f782885c240>"
      ]
     },
     "metadata": {
      "tags": []
     },
     "output_type": "display_data"
    }
   ],
   "source": [
    "index = 3956\n",
    "print('real label : {},predict value : {}'.format(CATEGORIES[np.argmax(y_data[index])],\n",
    "                                                  CATEGORIES[np.argmax(result[index])]))\n",
    "plt.imshow(x_data[index])\n",
    "plt.show()"
   ]
  },
  {
   "cell_type": "code",
   "execution_count": null,
   "metadata": {
    "colab": {
     "autoexec": {
      "startup": false,
      "wait_interval": 0
     }
    },
    "colab_type": "code",
    "id": "-dUuB-vC_5Kr"
   },
   "outputs": [],
   "source": [
    "label_index = np.vectorize({0:45,1:52,2:203,3:215}.get)(np.argmax(y_data,axis = 1))\n",
    "n_values = np.max(label_index) + 1\n",
    "one_hot = np.eye(n_values)[label_index]"
   ]
  },
  {
   "cell_type": "code",
   "execution_count": null,
   "metadata": {
    "colab": {
     "autoexec": {
      "startup": false,
      "wait_interval": 0
     }
    },
    "colab_type": "code",
    "id": "1jzQ3LFx_5Kt"
   },
   "outputs": [],
   "source": [
    "y_data = one_hot.copy()\n",
    "addition = np.zeros((x_data.shape[0],149))\n",
    "y_data = np.hstack((y_data,addition))"
   ]
  },
  {
   "cell_type": "code",
   "execution_count": null,
   "metadata": {
    "colab": {
     "autoexec": {
      "startup": false,
      "wait_interval": 0
     }
    },
    "colab_type": "code",
    "id": "aVes3roe_5Kv",
    "outputId": "2b282a34-e8f1-4639-9f87-3c68a4d74175"
   },
   "outputs": [
    {
     "data": {
      "text/plain": [
       "(3959, 365)"
      ]
     },
     "execution_count": 107,
     "metadata": {
      "tags": []
     },
     "output_type": "execute_result"
    }
   ],
   "source": [
    "y_data.shape"
   ]
  },
  {
   "cell_type": "code",
   "execution_count": null,
   "metadata": {
    "colab": {
     "autoexec": {
      "startup": false,
      "wait_interval": 0
     },
     "output_embedded_package_id": "1PHVhRkcl9RTqk7rLxcd6M8bmW6IxMr6S"
    },
    "colab_type": "code",
    "id": "zTGa5-fp_5Ky",
    "outputId": "10d4c012-e940-49c8-b4e1-f346441326d8"
   },
   "outputs": [],
   "source": [
    "import time\n",
    "time.sleep(5)\n",
    "count = 0\n",
    "for index in range(3959):\n",
    "    if np.argmax(y_data[index]) != np.argmax(result[index]):\n",
    "        print('real label : {},predict value : {}'.format(CATEGORIES[np.argmax(y_data[index])],\n",
    "                                                  CATEGORIES[np.argmax(result[index])]))\n",
    "        plt.imshow(x_data[index])\n",
    "        plt.show()\n",
    "        count+=1\n",
    "        time.sleep(5)\n",
    "print(count)"
   ]
  },
  {
   "cell_type": "code",
   "execution_count": null,
   "metadata": {
    "colab": {
     "autoexec": {
      "startup": false,
      "wait_interval": 0
     }
    },
    "colab_type": "code",
    "id": "JxXnp4B1_5K2",
    "outputId": "0183724e-fd71-44fd-b2b1-c2b05e32200c"
   },
   "outputs": [
    {
     "data": {
      "text/plain": [
       "(3959, 224, 224, 3)"
      ]
     },
     "execution_count": 87,
     "metadata": {
      "tags": []
     },
     "output_type": "execute_result"
    }
   ],
   "source": [
    "x_data.shape"
   ]
  },
  {
   "cell_type": "code",
   "execution_count": null,
   "metadata": {
    "colab": {
     "autoexec": {
      "startup": false,
      "wait_interval": 0
     }
    },
    "colab_type": "code",
    "id": "-uMmzyKx_5K5"
   },
   "outputs": [],
   "source": [
    "index = np.arange(0,x_data.shape[0])"
   ]
  },
  {
   "cell_type": "code",
   "execution_count": null,
   "metadata": {
    "colab": {
     "autoexec": {
      "startup": false,
      "wait_interval": 0
     }
    },
    "colab_type": "code",
    "id": "zo39qaKP_5K6",
    "outputId": "4d75ebae-ce06-47ed-fd2f-158c9c32d748"
   },
   "outputs": [
    {
     "data": {
      "text/plain": [
       "array([   0,    1,    2, ..., 3956, 3957, 3958])"
      ]
     },
     "execution_count": 89,
     "metadata": {
      "tags": []
     },
     "output_type": "execute_result"
    }
   ],
   "source": [
    "index"
   ]
  },
  {
   "cell_type": "code",
   "execution_count": null,
   "metadata": {
    "colab": {
     "autoexec": {
      "startup": false,
      "wait_interval": 0
     }
    },
    "colab_type": "code",
    "id": "MFMfhUMt_5K-"
   },
   "outputs": [],
   "source": [
    "np.random.shuffle(index)"
   ]
  },
  {
   "cell_type": "code",
   "execution_count": null,
   "metadata": {
    "colab": {
     "autoexec": {
      "startup": false,
      "wait_interval": 0
     }
    },
    "colab_type": "code",
    "id": "-YhoyoNh_5LC",
    "outputId": "40207751-ff53-40db-b4ac-4290148019f7"
   },
   "outputs": [
    {
     "data": {
      "text/plain": [
       "array([ 772, 3848, 3106, ..., 2244, 3460,  608])"
      ]
     },
     "execution_count": 91,
     "metadata": {
      "tags": []
     },
     "output_type": "execute_result"
    }
   ],
   "source": [
    "index"
   ]
  },
  {
   "cell_type": "code",
   "execution_count": null,
   "metadata": {
    "colab": {
     "autoexec": {
      "startup": false,
      "wait_interval": 0
     }
    },
    "colab_type": "code",
    "id": "r2tdLUjI_5LH",
    "outputId": "b8f7adda-6835-440b-f79d-90e7dfeccd65"
   },
   "outputs": [
    {
     "name": "stdout",
     "output_type": "stream",
     "text": [
      "Train on 2771 samples, validate on 394 samples\n",
      "Epoch 1/30\n",
      "2771/2771 [==============================] - 85s 31ms/step - loss: 1.5249 - acc: 0.4089 - val_loss: 1.4189 - val_acc: 0.5102\n",
      "Epoch 2/30\n",
      "2771/2771 [==============================] - 81s 29ms/step - loss: 1.4709 - acc: 0.4511 - val_loss: 1.4299 - val_acc: 0.4670\n",
      "Epoch 3/30\n",
      "2771/2771 [==============================] - 81s 29ms/step - loss: 1.4184 - acc: 0.4915 - val_loss: 1.4191 - val_acc: 0.4873\n",
      "Epoch 4/30\n",
      "2771/2771 [==============================] - 81s 29ms/step - loss: 1.3606 - acc: 0.5233 - val_loss: 1.4068 - val_acc: 0.5051\n",
      "Epoch 5/30\n",
      "2771/2771 [==============================] - 81s 29ms/step - loss: 1.3061 - acc: 0.5608 - val_loss: 1.4069 - val_acc: 0.4924\n",
      "Epoch 6/30\n",
      "2771/2771 [==============================] - 81s 29ms/step - loss: 1.2402 - acc: 0.5991 - val_loss: 1.4088 - val_acc: 0.4848\n",
      "Epoch 7/30\n",
      "2771/2771 [==============================] - 81s 29ms/step - loss: 1.1549 - acc: 0.6532 - val_loss: 1.4296 - val_acc: 0.4391\n",
      "Epoch 8/30\n",
      "2771/2771 [==============================] - 81s 29ms/step - loss: 1.0819 - acc: 0.6824 - val_loss: 1.4271 - val_acc: 0.4391\n",
      "Epoch 9/30\n",
      "2771/2771 [==============================] - 81s 29ms/step - loss: 0.9988 - acc: 0.7192 - val_loss: 1.4192 - val_acc: 0.4543\n",
      "Epoch 10/30\n",
      "2771/2771 [==============================] - 81s 29ms/step - loss: 0.9154 - acc: 0.7604 - val_loss: 1.4288 - val_acc: 0.4416\n",
      "Epoch 11/30\n",
      "2771/2771 [==============================] - 81s 29ms/step - loss: 0.8184 - acc: 0.8105 - val_loss: 1.4983 - val_acc: 0.4137\n",
      "Epoch 12/30\n",
      "2771/2771 [==============================] - 81s 29ms/step - loss: 0.7484 - acc: 0.8383 - val_loss: 1.5458 - val_acc: 0.4264\n",
      "Epoch 13/30\n",
      "2771/2771 [==============================] - 81s 29ms/step - loss: 0.6626 - acc: 0.8665 - val_loss: 1.5374 - val_acc: 0.4188\n",
      "Epoch 14/30\n",
      "2771/2771 [==============================] - 81s 29ms/step - loss: 0.5934 - acc: 0.9004 - val_loss: 1.6060 - val_acc: 0.4086\n",
      "Epoch 15/30\n",
      "2771/2771 [==============================] - 81s 29ms/step - loss: 0.5518 - acc: 0.9087 - val_loss: 1.6235 - val_acc: 0.4213\n",
      "Epoch 16/30\n",
      "2771/2771 [==============================] - 81s 29ms/step - loss: 0.5058 - acc: 0.9253 - val_loss: 1.6258 - val_acc: 0.4340\n",
      "Epoch 17/30\n",
      "  64/2771 [..............................] - ETA: 1:15 - loss: 0.3809 - acc: 0.9844"
     ]
    },
    {
     "ename": "KeyboardInterrupt",
     "evalue": "",
     "output_type": "error",
     "traceback": [
      "\u001b[0;31m---------------------------------------------------------------------------\u001b[0m",
      "\u001b[0;31mKeyboardInterrupt\u001b[0m                         Traceback (most recent call last)",
      "\u001b[0;32m<ipython-input-109-df3c43763ae6>\u001b[0m in \u001b[0;36m<module>\u001b[0;34m()\u001b[0m\n\u001b[1;32m     20\u001b[0m           \u001b[0mepochs\u001b[0m\u001b[0;34m=\u001b[0m\u001b[0;36m30\u001b[0m\u001b[0;34m,\u001b[0m\u001b[0;34m\u001b[0m\u001b[0m\n\u001b[1;32m     21\u001b[0m           \u001b[0mvalidation_data\u001b[0m\u001b[0;34m=\u001b[0m\u001b[0;34m(\u001b[0m\u001b[0mx_val\u001b[0m\u001b[0;34m,\u001b[0m \u001b[0my_val\u001b[0m\u001b[0;34m)\u001b[0m\u001b[0;34m,\u001b[0m\u001b[0;34m\u001b[0m\u001b[0m\n\u001b[0;32m---> 22\u001b[0;31m           batch_size=64)\n\u001b[0m\u001b[1;32m     23\u001b[0m \u001b[0mscore\u001b[0m \u001b[0;34m=\u001b[0m \u001b[0mmodel\u001b[0m\u001b[0;34m.\u001b[0m\u001b[0mevaluate\u001b[0m\u001b[0;34m(\u001b[0m\u001b[0mx_test\u001b[0m\u001b[0;34m,\u001b[0m \u001b[0my_test\u001b[0m\u001b[0;34m,\u001b[0m \u001b[0mbatch_size\u001b[0m\u001b[0;34m=\u001b[0m\u001b[0;36m64\u001b[0m\u001b[0;34m)\u001b[0m\u001b[0;34m\u001b[0m\u001b[0m\n",
      "\u001b[0;32m/usr/local/lib/python3.6/dist-packages/keras/engine/training.py\u001b[0m in \u001b[0;36mfit\u001b[0;34m(self, x, y, batch_size, epochs, verbose, callbacks, validation_split, validation_data, shuffle, class_weight, sample_weight, initial_epoch, steps_per_epoch, validation_steps, **kwargs)\u001b[0m\n\u001b[1;32m   1703\u001b[0m                               \u001b[0minitial_epoch\u001b[0m\u001b[0;34m=\u001b[0m\u001b[0minitial_epoch\u001b[0m\u001b[0;34m,\u001b[0m\u001b[0;34m\u001b[0m\u001b[0m\n\u001b[1;32m   1704\u001b[0m                               \u001b[0msteps_per_epoch\u001b[0m\u001b[0;34m=\u001b[0m\u001b[0msteps_per_epoch\u001b[0m\u001b[0;34m,\u001b[0m\u001b[0;34m\u001b[0m\u001b[0m\n\u001b[0;32m-> 1705\u001b[0;31m                               validation_steps=validation_steps)\n\u001b[0m\u001b[1;32m   1706\u001b[0m \u001b[0;34m\u001b[0m\u001b[0m\n\u001b[1;32m   1707\u001b[0m     def evaluate(self, x=None, y=None,\n",
      "\u001b[0;32m/usr/local/lib/python3.6/dist-packages/keras/engine/training.py\u001b[0m in \u001b[0;36m_fit_loop\u001b[0;34m(self, f, ins, out_labels, batch_size, epochs, verbose, callbacks, val_f, val_ins, shuffle, callback_metrics, initial_epoch, steps_per_epoch, validation_steps)\u001b[0m\n\u001b[1;32m   1234\u001b[0m                         \u001b[0mins_batch\u001b[0m\u001b[0;34m[\u001b[0m\u001b[0mi\u001b[0m\u001b[0;34m]\u001b[0m \u001b[0;34m=\u001b[0m \u001b[0mins_batch\u001b[0m\u001b[0;34m[\u001b[0m\u001b[0mi\u001b[0m\u001b[0;34m]\u001b[0m\u001b[0;34m.\u001b[0m\u001b[0mtoarray\u001b[0m\u001b[0;34m(\u001b[0m\u001b[0;34m)\u001b[0m\u001b[0;34m\u001b[0m\u001b[0m\n\u001b[1;32m   1235\u001b[0m \u001b[0;34m\u001b[0m\u001b[0m\n\u001b[0;32m-> 1236\u001b[0;31m                     \u001b[0mouts\u001b[0m \u001b[0;34m=\u001b[0m \u001b[0mf\u001b[0m\u001b[0;34m(\u001b[0m\u001b[0mins_batch\u001b[0m\u001b[0;34m)\u001b[0m\u001b[0;34m\u001b[0m\u001b[0m\n\u001b[0m\u001b[1;32m   1237\u001b[0m                     \u001b[0;32mif\u001b[0m \u001b[0;32mnot\u001b[0m \u001b[0misinstance\u001b[0m\u001b[0;34m(\u001b[0m\u001b[0mouts\u001b[0m\u001b[0;34m,\u001b[0m \u001b[0mlist\u001b[0m\u001b[0;34m)\u001b[0m\u001b[0;34m:\u001b[0m\u001b[0;34m\u001b[0m\u001b[0m\n\u001b[1;32m   1238\u001b[0m                         \u001b[0mouts\u001b[0m \u001b[0;34m=\u001b[0m \u001b[0;34m[\u001b[0m\u001b[0mouts\u001b[0m\u001b[0;34m]\u001b[0m\u001b[0;34m\u001b[0m\u001b[0m\n",
      "\u001b[0;32m/usr/local/lib/python3.6/dist-packages/keras/backend/tensorflow_backend.py\u001b[0m in \u001b[0;36m__call__\u001b[0;34m(self, inputs)\u001b[0m\n\u001b[1;32m   2480\u001b[0m         \u001b[0msession\u001b[0m \u001b[0;34m=\u001b[0m \u001b[0mget_session\u001b[0m\u001b[0;34m(\u001b[0m\u001b[0;34m)\u001b[0m\u001b[0;34m\u001b[0m\u001b[0m\n\u001b[1;32m   2481\u001b[0m         updated = session.run(fetches=fetches, feed_dict=feed_dict,\n\u001b[0;32m-> 2482\u001b[0;31m                               **self.session_kwargs)\n\u001b[0m\u001b[1;32m   2483\u001b[0m         \u001b[0;32mreturn\u001b[0m \u001b[0mupdated\u001b[0m\u001b[0;34m[\u001b[0m\u001b[0;34m:\u001b[0m\u001b[0mlen\u001b[0m\u001b[0;34m(\u001b[0m\u001b[0mself\u001b[0m\u001b[0;34m.\u001b[0m\u001b[0moutputs\u001b[0m\u001b[0;34m)\u001b[0m\u001b[0;34m]\u001b[0m\u001b[0;34m\u001b[0m\u001b[0m\n\u001b[1;32m   2484\u001b[0m \u001b[0;34m\u001b[0m\u001b[0m\n",
      "\u001b[0;32m/usr/local/lib/python3.6/dist-packages/tensorflow/python/client/session.py\u001b[0m in \u001b[0;36mrun\u001b[0;34m(self, fetches, feed_dict, options, run_metadata)\u001b[0m\n\u001b[1;32m    898\u001b[0m     \u001b[0;32mtry\u001b[0m\u001b[0;34m:\u001b[0m\u001b[0;34m\u001b[0m\u001b[0m\n\u001b[1;32m    899\u001b[0m       result = self._run(None, fetches, feed_dict, options_ptr,\n\u001b[0;32m--> 900\u001b[0;31m                          run_metadata_ptr)\n\u001b[0m\u001b[1;32m    901\u001b[0m       \u001b[0;32mif\u001b[0m \u001b[0mrun_metadata\u001b[0m\u001b[0;34m:\u001b[0m\u001b[0;34m\u001b[0m\u001b[0m\n\u001b[1;32m    902\u001b[0m         \u001b[0mproto_data\u001b[0m \u001b[0;34m=\u001b[0m \u001b[0mtf_session\u001b[0m\u001b[0;34m.\u001b[0m\u001b[0mTF_GetBuffer\u001b[0m\u001b[0;34m(\u001b[0m\u001b[0mrun_metadata_ptr\u001b[0m\u001b[0;34m)\u001b[0m\u001b[0;34m\u001b[0m\u001b[0m\n",
      "\u001b[0;32m/usr/local/lib/python3.6/dist-packages/tensorflow/python/client/session.py\u001b[0m in \u001b[0;36m_run\u001b[0;34m(self, handle, fetches, feed_dict, options, run_metadata)\u001b[0m\n\u001b[1;32m   1133\u001b[0m     \u001b[0;32mif\u001b[0m \u001b[0mfinal_fetches\u001b[0m \u001b[0;32mor\u001b[0m \u001b[0mfinal_targets\u001b[0m \u001b[0;32mor\u001b[0m \u001b[0;34m(\u001b[0m\u001b[0mhandle\u001b[0m \u001b[0;32mand\u001b[0m \u001b[0mfeed_dict_tensor\u001b[0m\u001b[0;34m)\u001b[0m\u001b[0;34m:\u001b[0m\u001b[0;34m\u001b[0m\u001b[0m\n\u001b[1;32m   1134\u001b[0m       results = self._do_run(handle, final_targets, final_fetches,\n\u001b[0;32m-> 1135\u001b[0;31m                              feed_dict_tensor, options, run_metadata)\n\u001b[0m\u001b[1;32m   1136\u001b[0m     \u001b[0;32melse\u001b[0m\u001b[0;34m:\u001b[0m\u001b[0;34m\u001b[0m\u001b[0m\n\u001b[1;32m   1137\u001b[0m       \u001b[0mresults\u001b[0m \u001b[0;34m=\u001b[0m \u001b[0;34m[\u001b[0m\u001b[0;34m]\u001b[0m\u001b[0;34m\u001b[0m\u001b[0m\n",
      "\u001b[0;32m/usr/local/lib/python3.6/dist-packages/tensorflow/python/client/session.py\u001b[0m in \u001b[0;36m_do_run\u001b[0;34m(self, handle, target_list, fetch_list, feed_dict, options, run_metadata)\u001b[0m\n\u001b[1;32m   1314\u001b[0m     \u001b[0;32mif\u001b[0m \u001b[0mhandle\u001b[0m \u001b[0;32mis\u001b[0m \u001b[0;32mNone\u001b[0m\u001b[0;34m:\u001b[0m\u001b[0;34m\u001b[0m\u001b[0m\n\u001b[1;32m   1315\u001b[0m       return self._do_call(_run_fn, feeds, fetches, targets, options,\n\u001b[0;32m-> 1316\u001b[0;31m                            run_metadata)\n\u001b[0m\u001b[1;32m   1317\u001b[0m     \u001b[0;32melse\u001b[0m\u001b[0;34m:\u001b[0m\u001b[0;34m\u001b[0m\u001b[0m\n\u001b[1;32m   1318\u001b[0m       \u001b[0;32mreturn\u001b[0m \u001b[0mself\u001b[0m\u001b[0;34m.\u001b[0m\u001b[0m_do_call\u001b[0m\u001b[0;34m(\u001b[0m\u001b[0m_prun_fn\u001b[0m\u001b[0;34m,\u001b[0m \u001b[0mhandle\u001b[0m\u001b[0;34m,\u001b[0m \u001b[0mfeeds\u001b[0m\u001b[0;34m,\u001b[0m \u001b[0mfetches\u001b[0m\u001b[0;34m)\u001b[0m\u001b[0;34m\u001b[0m\u001b[0m\n",
      "\u001b[0;32m/usr/local/lib/python3.6/dist-packages/tensorflow/python/client/session.py\u001b[0m in \u001b[0;36m_do_call\u001b[0;34m(self, fn, *args)\u001b[0m\n\u001b[1;32m   1320\u001b[0m   \u001b[0;32mdef\u001b[0m \u001b[0m_do_call\u001b[0m\u001b[0;34m(\u001b[0m\u001b[0mself\u001b[0m\u001b[0;34m,\u001b[0m \u001b[0mfn\u001b[0m\u001b[0;34m,\u001b[0m \u001b[0;34m*\u001b[0m\u001b[0margs\u001b[0m\u001b[0;34m)\u001b[0m\u001b[0;34m:\u001b[0m\u001b[0;34m\u001b[0m\u001b[0m\n\u001b[1;32m   1321\u001b[0m     \u001b[0;32mtry\u001b[0m\u001b[0;34m:\u001b[0m\u001b[0;34m\u001b[0m\u001b[0m\n\u001b[0;32m-> 1322\u001b[0;31m       \u001b[0;32mreturn\u001b[0m \u001b[0mfn\u001b[0m\u001b[0;34m(\u001b[0m\u001b[0;34m*\u001b[0m\u001b[0margs\u001b[0m\u001b[0;34m)\u001b[0m\u001b[0;34m\u001b[0m\u001b[0m\n\u001b[0m\u001b[1;32m   1323\u001b[0m     \u001b[0;32mexcept\u001b[0m \u001b[0merrors\u001b[0m\u001b[0;34m.\u001b[0m\u001b[0mOpError\u001b[0m \u001b[0;32mas\u001b[0m \u001b[0me\u001b[0m\u001b[0;34m:\u001b[0m\u001b[0;34m\u001b[0m\u001b[0m\n\u001b[1;32m   1324\u001b[0m       \u001b[0mmessage\u001b[0m \u001b[0;34m=\u001b[0m \u001b[0mcompat\u001b[0m\u001b[0;34m.\u001b[0m\u001b[0mas_text\u001b[0m\u001b[0;34m(\u001b[0m\u001b[0me\u001b[0m\u001b[0;34m.\u001b[0m\u001b[0mmessage\u001b[0m\u001b[0;34m)\u001b[0m\u001b[0;34m\u001b[0m\u001b[0m\n",
      "\u001b[0;32m/usr/local/lib/python3.6/dist-packages/tensorflow/python/client/session.py\u001b[0m in \u001b[0;36m_run_fn\u001b[0;34m(feed_dict, fetch_list, target_list, options, run_metadata)\u001b[0m\n\u001b[1;32m   1305\u001b[0m       \u001b[0mself\u001b[0m\u001b[0;34m.\u001b[0m\u001b[0m_extend_graph\u001b[0m\u001b[0;34m(\u001b[0m\u001b[0;34m)\u001b[0m\u001b[0;34m\u001b[0m\u001b[0m\n\u001b[1;32m   1306\u001b[0m       return self._call_tf_sessionrun(\n\u001b[0;32m-> 1307\u001b[0;31m           options, feed_dict, fetch_list, target_list, run_metadata)\n\u001b[0m\u001b[1;32m   1308\u001b[0m \u001b[0;34m\u001b[0m\u001b[0m\n\u001b[1;32m   1309\u001b[0m     \u001b[0;32mdef\u001b[0m \u001b[0m_prun_fn\u001b[0m\u001b[0;34m(\u001b[0m\u001b[0mhandle\u001b[0m\u001b[0;34m,\u001b[0m \u001b[0mfeed_dict\u001b[0m\u001b[0;34m,\u001b[0m \u001b[0mfetch_list\u001b[0m\u001b[0;34m)\u001b[0m\u001b[0;34m:\u001b[0m\u001b[0;34m\u001b[0m\u001b[0m\n",
      "\u001b[0;32m/usr/local/lib/python3.6/dist-packages/tensorflow/python/client/session.py\u001b[0m in \u001b[0;36m_call_tf_sessionrun\u001b[0;34m(self, options, feed_dict, fetch_list, target_list, run_metadata)\u001b[0m\n\u001b[1;32m   1407\u001b[0m       return tf_session.TF_SessionRun_wrapper(\n\u001b[1;32m   1408\u001b[0m           \u001b[0mself\u001b[0m\u001b[0;34m.\u001b[0m\u001b[0m_session\u001b[0m\u001b[0;34m,\u001b[0m \u001b[0moptions\u001b[0m\u001b[0;34m,\u001b[0m \u001b[0mfeed_dict\u001b[0m\u001b[0;34m,\u001b[0m \u001b[0mfetch_list\u001b[0m\u001b[0;34m,\u001b[0m \u001b[0mtarget_list\u001b[0m\u001b[0;34m,\u001b[0m\u001b[0;34m\u001b[0m\u001b[0m\n\u001b[0;32m-> 1409\u001b[0;31m           run_metadata)\n\u001b[0m\u001b[1;32m   1410\u001b[0m     \u001b[0;32melse\u001b[0m\u001b[0;34m:\u001b[0m\u001b[0;34m\u001b[0m\u001b[0m\n\u001b[1;32m   1411\u001b[0m       \u001b[0;32mwith\u001b[0m \u001b[0merrors\u001b[0m\u001b[0;34m.\u001b[0m\u001b[0mraise_exception_on_not_ok_status\u001b[0m\u001b[0;34m(\u001b[0m\u001b[0;34m)\u001b[0m \u001b[0;32mas\u001b[0m \u001b[0mstatus\u001b[0m\u001b[0;34m:\u001b[0m\u001b[0;34m\u001b[0m\u001b[0m\n",
      "\u001b[0;31mKeyboardInterrupt\u001b[0m: "
     ]
    }
   ],
   "source": [
    "import keras\n",
    "from keras.layers.normalization import BatchNormalization\n",
    "\n",
    "train_index = int(x_data.shape[0]*70/100)\n",
    "val_num = int(x_data.shape[0]*10/100)\n",
    "\n",
    "x_data = x_data[index]\n",
    "y_data = y_data[index]\n",
    "\n",
    "x_train = x_data[0:train_index,:]\n",
    "y_train = y_data[0:train_index,:]\n",
    "x_val = x_data[train_index+ 1:train_index+ val_num,:]\n",
    "y_val = y_data[train_index+ 1:train_index+ val_num,:]\n",
    "x_test = x_data[train_index+ val_num+1:,:]\n",
    "y_test = y_data[train_index+ val_num+1:,:]\n",
    "\n",
    "model.compile(loss = \"categorical_crossentropy\", optimizer = keras.optimizers.SGD(lr=0.0001, momentum=0.9), metrics=[\"accuracy\"])\n",
    "\n",
    "history = model.fit(x_train, y_train,\n",
    "          epochs=30,\n",
    "          validation_data=(x_val, y_val),\n",
    "          batch_size=64)\n",
    "score = model.evaluate(x_test, y_test, batch_size=64)"
   ]
  },
  {
   "cell_type": "code",
   "execution_count": null,
   "metadata": {
    "colab": {
     "autoexec": {
      "startup": false,
      "wait_interval": 0
     }
    },
    "colab_type": "code",
    "id": "Z-ZFdvto_5LJ",
    "outputId": "1c173314-31e7-4e52-8550-c5830390deab"
   },
   "outputs": [
    {
     "name": "stdout",
     "output_type": "stream",
     "text": [
      "792/792 [==============================] - 7s 9ms/step\n"
     ]
    }
   ],
   "source": [
    "score = model.evaluate(x_test, y_test, batch_size=64)"
   ]
  },
  {
   "cell_type": "code",
   "execution_count": null,
   "metadata": {
    "colab": {
     "autoexec": {
      "startup": false,
      "wait_interval": 0
     }
    },
    "colab_type": "code",
    "id": "FpLzjmGo_5LP",
    "outputId": "60fa7fdb-ae0a-4210-fca3-8a82db68a278"
   },
   "outputs": [
    {
     "data": {
      "text/plain": [
       "[1.7812698537653142, 0.42297979828083154]"
      ]
     },
     "execution_count": 111,
     "metadata": {
      "tags": []
     },
     "output_type": "execute_result"
    }
   ],
   "source": [
    "score"
   ]
  },
  {
   "cell_type": "code",
   "execution_count": null,
   "metadata": {
    "colab": {
     "autoexec": {
      "startup": false,
      "wait_interval": 0
     }
    },
    "colab_type": "code",
    "id": "E_GeeI-U_5LS",
    "outputId": "5fd0ad6c-1d5b-412c-86d6-82f4c2f518ca"
   },
   "outputs": [
    {
     "data": {
      "text/plain": [
       "array([682., 694., 694., 701.])"
      ]
     },
     "execution_count": 23,
     "metadata": {
      "tags": []
     },
     "output_type": "execute_result"
    }
   ],
   "source": [
    "np.sum(y_train,axis=0)"
   ]
  },
  {
   "cell_type": "code",
   "execution_count": null,
   "metadata": {
    "colab": {
     "autoexec": {
      "startup": false,
      "wait_interval": 0
     }
    },
    "colab_type": "code",
    "id": "Bca5h4lV_5LU"
   },
   "outputs": [],
   "source": [
    "prediction = model.predict(x_data)"
   ]
  },
  {
   "cell_type": "code",
   "execution_count": null,
   "metadata": {
    "colab": {
     "autoexec": {
      "startup": false,
      "wait_interval": 0
     }
    },
    "colab_type": "code",
    "id": "-JKqaLjc_5LY",
    "outputId": "52dc7a21-9698-4fd8-d4b2-abaeef3658a4"
   },
   "outputs": [
    {
     "data": {
      "text/plain": [
       "array([3000.,    0.,    0.,    0.], dtype=float32)"
      ]
     },
     "execution_count": 18,
     "metadata": {
      "tags": []
     },
     "output_type": "execute_result"
    }
   ],
   "source": [
    "np.sum(prediction[0:3000],axis=0)"
   ]
  },
  {
   "cell_type": "code",
   "execution_count": null,
   "metadata": {
    "colab": {
     "autoexec": {
      "startup": false,
      "wait_interval": 0
     }
    },
    "colab_type": "code",
    "id": "R1MAo7mq_5La"
   },
   "outputs": [],
   "source": []
  },
  {
   "cell_type": "code",
   "execution_count": null,
   "metadata": {
    "colab": {
     "autoexec": {
      "startup": false,
      "wait_interval": 0
     }
    },
    "colab_type": "code",
    "id": "0q7niww1_5Lc",
    "outputId": "c7959431-4e9b-4a46-eb0a-71d98a6a6f39"
   },
   "outputs": [
    {
     "data": {
      "image/png": "[encoded data removed]",
      "text/plain": [
       "<matplotlib.figure.Figure at 0x7fda70037780>"
      ]
     },
     "metadata": {
      "tags": []
     },
     "output_type": "display_data"
    }
   ],
   "source": []
  },
  {
   "cell_type": "code",
   "execution_count": null,
   "metadata": {
    "colab": {
     "autoexec": {
      "startup": false,
      "wait_interval": 0
     }
    },
    "colab_type": "code",
    "id": "0qnziGHD_5Lf",
    "outputId": "0c0ff13f-ae35-4834-e67e-e178a6a85730"
   },
   "outputs": [
    {
     "name": "stdout",
     "output_type": "stream",
     "text": [
      "Using TensorFlow backend.\n",
      "2018-07-10 17:24:19.328963: I tensorflow/stream_executor/cuda/cuda_gpu_executor.cc:897] successful NUMA node read from SysFS had negative value (-1), but there must be at least one NUMA node, so returning NUMA node zero\n",
      "2018-07-10 17:24:19.329551: I tensorflow/core/common_runtime/gpu/gpu_device.cc:1392] Found device 0 with properties: \n",
      "name: Tesla K80 major: 3 minor: 7 memoryClockRate(GHz): 0.8235\n",
      "pciBusID: 0000:00:04.0\n",
      "totalMemory: 11.17GiB freeMemory: 11.10GiB\n",
      "2018-07-10 17:24:19.329635: I tensorflow/core/common_runtime/gpu/gpu_device.cc:1471] Adding visible gpu devices: 0\n",
      "2018-07-10 17:24:19.735195: I tensorflow/core/common_runtime/gpu/gpu_device.cc:952] Device interconnect StreamExecutor with strength 1 edge matrix:\n",
      "2018-07-10 17:24:19.735266: I tensorflow/core/common_runtime/gpu/gpu_device.cc:958]      0 \n",
      "2018-07-10 17:24:19.735305: I tensorflow/core/common_runtime/gpu/gpu_device.cc:971] 0:   N \n",
      "2018-07-10 17:24:19.735672: I tensorflow/core/common_runtime/gpu/gpu_device.cc:1084] Created TensorFlow device (/job:localhost/replica:0/task:0/device:GPU:0 with 10763 MB memory) -> physical GPU (device: 0, name: Tesla K80, pci bus id: 0000:00:04.0, compute capability: 3.7)\n",
      "/usr/local/lib/python3.6/dist-packages/keras/preprocessing/image.py:657: UserWarning: This ImageDataGenerator specifies `featurewise_std_normalization`, which overrides setting of `featurewise_center`.\n",
      "  warnings.warn('This ImageDataGenerator specifies '\n",
      "tcmalloc: large alloc 2145329152 bytes == 0x7f3458954000 @  0x7f35b966f107 0x7f35b7448a41 0x7f35b74ae760 0x7f35b74ae934 0x7f35b74aee4d 0x7f35b74af5a5 0x7f35b7546191 0x4c4b0b 0x54f3c4 0x551ee0 0x54efc1 0x54f24d 0x551ee0 0x54efc1 0x54f24d 0x553aaf 0x54efc1 0x54ff73 0x42b3c9 0x42b5b5 0x44182b 0x421f64 0x7f35b84b81c1 0x42201a (nil)\n",
      "tcmalloc: large alloc 2145329152 bytes == 0x7f33d8b62000 @  0x7f35b966f107 0x7f35b7448a41 0x7f35b74ae760 0x7f35b74a3ce5 0x7f35b7546483 0x4c4b0b 0x54f3c4 0x551ee0 0x54efc1 0x54f24d 0x553aaf 0x54efc1 0x54f24d 0x553aaf 0x54efc1 0x54ff73 0x42b3c9 0x42b5b5 0x44182b 0x421f64 0x7f35b84b81c1 0x42201a (nil)\n",
      "tcmalloc: large alloc 2145329152 bytes == 0x7f3458954000 @  0x7f35b966f107 0x7f35b7448a41 0x7f35b74abbb3 0x7f35b74abc7a 0x7f35b755947d 0x7f35b7559dcb 0x7f35b755c658 0x7f35b208a287 0x7f35b208b1ef 0x459893 0x45b1b2 0x7f35b756455b 0x454391 0x554b82 0x54efc1 0x54f24d 0x551ee0 0x54efc1 0x54ffee 0x48b86d 0x45969e 0x552029 0x54efc1 0x54f24d 0x551ee0 0x54efc1 0x54f24d 0x553aaf 0x54efc1 0x54ff73 0x42b3c9\n",
      "detect.py:239: UserWarning: Update your `Model` call to the Keras 2 API: `Model(inputs=Tensor(\"in..., outputs=Tensor(\"de...)`\n",
      "  model_final = Model(input = model.input, output = predictions)\n",
      "tcmalloc: large alloc 2145329152 bytes == 0x7f33d8b62000 @  0x7f35b966f107 0x7f35b7448a41 0x7f35b74ae760 0x7f35b74ae934 0x7f35b74aee4d 0x7f35b74af5a5 0x7f35b7546191 0x4c4b0b 0x54f3c4 0x551ee0 0x54efc1 0x54f24d 0x551ee0 0x54efc1 0x558146 0x459c11 0x45969e 0x4e0b5b 0x4da8d7 0x459893 0x459f4c 0x54f117 0x551ee0 0x54efc1 0x54f24d 0x551ee0 0x54efc1 0x54ff73 0x42b3c9 0x42b5b5 0x44182b\n",
      "Traceback (most recent call last):\n",
      "  File \"detect.py\", line 246, in <module>\n",
      "    scores = model_final.evaluate(x_data[test], x_data[test], verbose=0)\n",
      "  File \"/usr/local/lib/python3.6/dist-packages/keras/engine/training.py\", line 1768, in evaluate\n",
      "    batch_size=batch_size)\n",
      "  File \"/usr/local/lib/python3.6/dist-packages/keras/engine/training.py\", line 1480, in _standardize_user_data\n",
      "    exception_prefix='target')\n",
      "  File \"/usr/local/lib/python3.6/dist-packages/keras/engine/training.py\", line 113, in _standardize_input_data\n",
      "    'with shape ' + str(data_shape))\n",
      "ValueError: Error when checking target: expected dense_3 to have 2 dimensions, but got array with shape (396, 224, 224, 3)\n"
     ]
    }
   ],
   "source": [
    "!python3 detect.py"
   ]
  },
  {
   "cell_type": "code",
   "execution_count": null,
   "metadata": {
    "colab": {
     "autoexec": {
      "startup": false,
      "wait_interval": 0
     }
    },
    "colab_type": "code",
    "id": "RaNW9O8a_5Lk"
   },
   "outputs": [],
   "source": [
    "# -*- coding: utf-8 -*-\n",
    "'''VGG16-places365 model for Keras\n",
    "# Reference:\n",
    "- [Places: A 10 million Image Database for Scene Recognition](http://places2.csail.mit.edu/PAMI_places.pdf)\n",
    "'''\n",
    "\n",
    "from __future__ import division, print_function\n",
    "import os\n",
    "\n",
    "import warnings\n",
    "import numpy as np\n",
    "import keras\n",
    "from keras import backend as K\n",
    "from keras.layers import Input\n",
    "from keras.layers.core import Activation, Dense, Flatten\n",
    "from keras.layers.pooling import MaxPooling2D\n",
    "from keras.models import Model\n",
    "from keras.layers import Conv2D\n",
    "from keras.regularizers import l2\n",
    "from keras.layers.core import Dropout\n",
    "from keras.layers import GlobalAveragePooling2D\n",
    "from keras.layers import GlobalMaxPooling2D\n",
    "from keras.applications.imagenet_utils import _obtain_input_shape\n",
    "from keras.engine.topology import get_source_inputs\n",
    "from keras.utils.data_utils import get_file\n",
    "from keras.utils import layer_utils\n",
    "from keras.preprocessing import image\n",
    "from keras.applications.imagenet_utils import preprocess_input\n",
    "\n",
    "WEIGHTS_PATH = 'https://github.com/GKalliatakis/Keras-VGG16-places365/releases/download/v1.0/vgg16-places365_weights_tf_dim_ordering_tf_kernels.h5'\n",
    "WEIGHTS_PATH_NO_TOP = 'https://github.com/GKalliatakis/Keras-VGG16-places365/releases/download/v1.0/vgg16-places365_weights_tf_dim_ordering_tf_kernels_notop.h5'\n",
    "\n",
    "\n",
    "def VGG16_Places365(include_top=True, weights='places',\n",
    "                    input_tensor=None, input_shape=None,\n",
    "                    pooling=None,\n",
    "                    classes=365):\n",
    "\n",
    "    if not (weights in {'places', None} or os.path.exists(weights)):\n",
    "        raise ValueError('The `weights` argument should be either '\n",
    "                         '`None` (random initialization), `places` '\n",
    "                         '(pre-training on Places), '\n",
    "                         'or the path to the weights file to be loaded.')\n",
    "\n",
    "    if weights == 'places' and include_top and classes != 365:\n",
    "        raise ValueError('If using `weights` as places with `include_top`'\n",
    "                         ' as true, `classes` should be 365')\n",
    "\n",
    "\n",
    "    # Determine proper input shape\n",
    "    input_shape = _obtain_input_shape(input_shape,\n",
    "                                      default_size=224,\n",
    "                                      min_size=48,\n",
    "                                      data_format=K.image_data_format(),\n",
    "                                      require_flatten =include_top)\n",
    "\n",
    "    if input_tensor is None:\n",
    "        img_input = Input(shape=input_shape)\n",
    "    else:\n",
    "        if not K.is_keras_tensor(input_tensor):\n",
    "            img_input = Input(tensor=input_tensor, shape=input_shape)\n",
    "        else:\n",
    "            img_input = input_tensor\n",
    "\n",
    "    # Block 1\n",
    "    x = Conv2D(filters=64, kernel_size=3, strides=(1, 1), padding='same',\n",
    "               kernel_regularizer=l2(0.0002),\n",
    "               activation='relu', name='block1_conv1')(img_input)\n",
    "\n",
    "    x = Conv2D(filters=64, kernel_size=3, strides=(1, 1), padding='same',\n",
    "               kernel_regularizer=l2(0.0002),\n",
    "               activation='relu', name='block1_conv2')(x)\n",
    "\n",
    "    x = MaxPooling2D(pool_size=(2, 2), strides=(2, 2), name=\"block1_pool\", padding='valid')(x)\n",
    "\n",
    "    # Block 2\n",
    "    x = Conv2D(filters=128, kernel_size=3, strides=(1, 1), padding='same',\n",
    "               kernel_regularizer=l2(0.0002),\n",
    "               activation='relu', name='block2_conv1')(x)\n",
    "\n",
    "    x = Conv2D(filters=128, kernel_size=3, strides=(1, 1), padding='same',\n",
    "               kernel_regularizer=l2(0.0002),\n",
    "               activation='relu', name='block2_conv2')(x)\n",
    "\n",
    "    x = MaxPooling2D(pool_size=(2, 2), strides=(2, 2), name=\"block2_pool\", padding='valid')(x)\n",
    "\n",
    "    # Block 3\n",
    "    x = Conv2D(filters=256, kernel_size=3, strides=(1, 1), padding='same',\n",
    "               kernel_regularizer=l2(0.0002),\n",
    "               activation='relu', name='block3_conv1')(x)\n",
    "\n",
    "    x = Conv2D(filters=256, kernel_size=3, strides=(1, 1), padding='same',\n",
    "               kernel_regularizer=l2(0.0002),\n",
    "               activation='relu', name='block3_conv2')(x)\n",
    "\n",
    "    x = Conv2D(filters=256, kernel_size=3, strides=(1, 1), padding='same',\n",
    "               kernel_regularizer=l2(0.0002),\n",
    "               activation='relu', name='block3_conv3')(x)\n",
    "\n",
    "    x = MaxPooling2D(pool_size=(2, 2), strides=(2, 2), name=\"block3_pool\", padding='valid')(x)\n",
    "\n",
    "    # Block 4\n",
    "    x = Conv2D(filters=512, kernel_size=3, strides=(1, 1), padding='same',\n",
    "               kernel_regularizer=l2(0.0002),\n",
    "               activation='relu', name='block4_conv1')(x)\n",
    "\n",
    "    x = Conv2D(filters=512, kernel_size=3, strides=(1, 1), padding='same',\n",
    "               kernel_regularizer=l2(0.0002),\n",
    "               activation='relu', name='block4_conv2')(x)\n",
    "\n",
    "    x = Conv2D(filters=512, kernel_size=3, strides=(1, 1), padding='same',\n",
    "               kernel_regularizer=l2(0.0002),\n",
    "               activation='relu', name='block4_conv3')(x)\n",
    "\n",
    "    x = MaxPooling2D(pool_size=(2, 2), strides=(2, 2), name=\"block4_pool\", padding='valid')(x)\n",
    "\n",
    "    # Block 5\n",
    "    x = Conv2D(filters=512, kernel_size=3, strides=(1, 1), padding='same',\n",
    "               kernel_regularizer=l2(0.0002),\n",
    "               activation='relu', name='block5_conv1')(x)\n",
    "\n",
    "    x = Conv2D(filters=512, kernel_size=3, strides=(1, 1), padding='same',\n",
    "               kernel_regularizer=l2(0.0002),\n",
    "               activation='relu', name='block5_conv2')(x)\n",
    "\n",
    "    x = Conv2D(filters=512, kernel_size=3, strides=(1, 1), padding='same',\n",
    "               kernel_regularizer=l2(0.0002),\n",
    "               activation='relu', name='block5_conv3')(x)\n",
    "\n",
    "    x = MaxPooling2D(pool_size=(2, 2), strides=(2, 2), name=\"block5_pool\", padding='valid')(x)\n",
    "\n",
    "    if include_top:\n",
    "        # Classification block\n",
    "        x = Flatten(name='flatten')(x)\n",
    "        x = Dense(4096, activation='relu', name='fc1')(x)\n",
    "        x = Dropout(0.5, name='drop_fc1')(x)\n",
    "\n",
    "        x = Dense(4096, activation='relu', name='fc2')(x)\n",
    "        x = Dropout(0.5, name='drop_fc2')(x)\n",
    "        \n",
    "        x = Dense(365, activation='softmax', name=\"predictions\")(x)\n",
    "\n",
    "    else:\n",
    "        if pooling == 'avg':\n",
    "            x = GlobalAveragePooling2D()(x)\n",
    "        elif pooling == 'max':\n",
    "            x = GlobalMaxPooling2D()(x)\n",
    "\n",
    "    # Ensure that the model takes into account\n",
    "    # any potential predecessors of `input_tensor`.\n",
    "    if input_tensor is not None:\n",
    "        inputs = get_source_inputs(input_tensor)\n",
    "    else:\n",
    "        inputs = img_input\n",
    "\n",
    "    # Create model.\n",
    "    model = Model(inputs, x, name='vgg16-places365')\n",
    "\n",
    "    # load weights\n",
    "    if weights == 'places':\n",
    "        if include_top:\n",
    "            weights_path = get_file('vgg16-places365_weights_tf_dim_ordering_tf_kernels.h5',\n",
    "                                    WEIGHTS_PATH,\n",
    "                                    cache_subdir='models')\n",
    "        else:\n",
    "            weights_path = get_file('vgg16-places365_weights_tf_dim_ordering_tf_kernels_notop.h5',\n",
    "                                    WEIGHTS_PATH_NO_TOP,\n",
    "                                    cache_subdir='models')\n",
    "\n",
    "        model.load_weights(weights_path)\n",
    "\n",
    "        if K.backend() == 'theano':\n",
    "            layer_utils.convert_all_kernels_in_model(model)\n",
    "\n",
    "        if K.image_data_format() == 'channels_first':\n",
    "            if include_top:\n",
    "                maxpool = model.get_layer(name='block5_pool')\n",
    "                shape = maxpool.output_shape[1:]\n",
    "                dense = model.get_layer(name='fc1')\n",
    "                layer_utils.convert_dense_weights_data_format(dense, shape, 'channels_first')\n",
    "\n",
    "            if K.backend() == 'tensorflow':\n",
    "                warnings.warn('You are using the TensorFlow backend, yet you '\n",
    "                              'are using the Theano '\n",
    "                              'image data format convention '\n",
    "                              '(`image_data_format=\"channels_first\"`). '\n",
    "                              'For best performance, set '\n",
    "                              '`image_data_format=\"channels_last\"` in '\n",
    "                              'your Keras config '\n",
    "                              'at ~/.keras/keras.json.')\n",
    "\n",
    "    elif weights is not None:\n",
    "        model.load_weights(weights)\n",
    "\n",
    "    return model\n",
    "\n",
    "import pickle\n",
    "import numpy as np\n",
    "def load_pickle(file):\n",
    "    with open(file, 'rb') as handle:\n",
    "        detected = pickle.load(handle)\n",
    "    return detected\n",
    "\n",
    "model = VGG16_Places365(weights='places')\n",
    "\n",
    "x_data = load_pickle('x_data.pickle')\n",
    "y_data = np.zeros((x_data.shape[0],4))\n",
    "y_data[0:983] = (1,0,0,0)\n",
    "y_data[983:1975] = (0,1,0,0)\n",
    "y_data[1975:2966] = (0,0,1,0)\n",
    "y_data[2966:] = (0,0,0,1)"
   ]
  },
  {
   "cell_type": "code",
   "execution_count": null,
   "metadata": {
    "colab": {
     "autoexec": {
      "startup": false,
      "wait_interval": 0
     }
    },
    "colab_type": "code",
    "id": "Kq7hQox6_5Lo",
    "outputId": "13ea2352-67a6-417d-f643-5242dcfd8f95"
   },
   "outputs": [
    {
     "name": "stderr",
     "output_type": "stream",
     "text": [
      "/usr/local/lib/python3.6/dist-packages/ipykernel_launcher.py:49: UserWarning: Update your `Model` call to the Keras 2 API: `Model(inputs=Tensor(\"in..., outputs=Tensor(\"de...)`\n"
     ]
    },
    {
     "name": "stdout",
     "output_type": "stream",
     "text": [
      "Epoch 1/10\n",
      "60/59 [==============================] - 34s 558ms/step - loss: 0.7521 - acc: 0.8696 - val_loss: 0.6007 - val_acc: 0.8878\n",
      "Epoch 2/10\n",
      "60/59 [==============================] - 32s 536ms/step - loss: 0.6226 - acc: 0.8803 - val_loss: 0.5523 - val_acc: 0.8827\n",
      "Epoch 3/10\n",
      "60/59 [==============================] - 32s 540ms/step - loss: 0.5851 - acc: 0.8914 - val_loss: 0.5617 - val_acc: 0.8929\n",
      "Epoch 4/10\n",
      "60/59 [==============================] - 32s 538ms/step - loss: 0.5529 - acc: 0.9061 - val_loss: 0.5371 - val_acc: 0.8980\n",
      "Epoch 5/10\n",
      "60/59 [==============================] - 32s 538ms/step - loss: 0.5625 - acc: 0.8986 - val_loss: 0.5739 - val_acc: 0.8929\n",
      "Epoch 6/10\n",
      "60/59 [==============================] - 32s 539ms/step - loss: 0.5426 - acc: 0.9066 - val_loss: 0.5753 - val_acc: 0.8929\n",
      "Epoch 7/10\n",
      "60/59 [==============================] - 32s 537ms/step - loss: 0.5356 - acc: 0.9056 - val_loss: 0.5515 - val_acc: 0.8776\n",
      "Epoch 8/10\n",
      "60/59 [==============================] - 32s 539ms/step - loss: 0.5269 - acc: 0.9062 - val_loss: 0.5568 - val_acc: 0.8980\n",
      "Epoch 9/10\n",
      "60/59 [==============================] - 32s 539ms/step - loss: 0.5332 - acc: 0.9098 - val_loss: 0.5555 - val_acc: 0.8980\n",
      "Epoch 10/10\n",
      "60/59 [==============================] - 32s 537ms/step - loss: 0.5059 - acc: 0.9121 - val_loss: 0.5447 - val_acc: 0.8878\n",
      "792/792 [==============================] - 11s 14ms/step\n"
     ]
    }
   ],
   "source": [
    "from keras.preprocessing.image import ImageDataGenerator\n",
    "from sklearn.model_selection import KFold\n",
    "\n",
    "for layer in model.layers:\n",
    "    layer.trainable = False\n",
    "\n",
    "index = np.arange(0,x_data.shape[0])\n",
    "np.random.shuffle(index)\n",
    "\n",
    "train_index = int(x_data.shape[0]*75/100)\n",
    "val_num = int(x_data.shape[0]*5/100)\n",
    "\n",
    "x_data = x_data[index]\n",
    "y_data = y_data[index]\n",
    "\n",
    "x_train = x_data[0:train_index,:]\n",
    "y_train = y_data[0:train_index,:]\n",
    "x_val = x_data[train_index+ 1:train_index+ val_num,:]\n",
    "y_val = y_data[train_index+ 1:train_index+ val_num,:]\n",
    "x_test = x_data[train_index+ val_num+1:,:]\n",
    "y_test = y_data[train_index+ val_num+1:,:]\n",
    "\n",
    "datagen = ImageDataGenerator(\n",
    "        horizontal_flip=True)\n",
    "\n",
    "datagen.fit(x_train)\n",
    "\n",
    "val_datagen = ImageDataGenerator(\n",
    "        horizontal_flip=True)\n",
    "\n",
    "\n",
    "val_datagen.fit(x_val)\n",
    "\n",
    "test_datagen = ImageDataGenerator(\n",
    "       )\n",
    "\n",
    "\n",
    "test_datagen.fit(x_test)\n",
    "\n",
    "#Adding custom Layers \n",
    "x = model.output\n",
    "x = Dense(1024,activation='relu')(x)\n",
    "x = Dropout(0,5)(x)\n",
    "x = Dense(1024,activation='relu')(x)\n",
    "x = Dropout(0,5)(x)\n",
    "predictions = Dense(4, activation=\"softmax\")(x)\n",
    "\n",
    "# creating the final model \n",
    "model_final = Model(input = model.input, output = predictions)\n",
    "\n",
    "# compile the model \n",
    "model_final.compile(loss = \"categorical_crossentropy\", optimizer = keras.optimizers.Adam(lr=0.001, beta_1=0.9, beta_2=0.999, epsilon=None, decay=0.0, amsgrad=False), metrics=[\"accuracy\"])\n",
    "\n",
    "history = model_final.fit_generator(datagen.flow(x_train, y_train, batch_size=50),\n",
    "                    validation_data = val_datagen.flow(x_val,y_val,batch_size= 50),\n",
    "                    steps_per_epoch=len(x_train) / 50, epochs=10)\n",
    "scores = model_final.evaluate(x_test,y_test,batch_size = 50)"
   ]
  },
  {
   "cell_type": "code",
   "execution_count": null,
   "metadata": {
    "colab": {
     "autoexec": {
      "startup": false,
      "wait_interval": 0
     }
    },
    "colab_type": "code",
    "id": "fYYh_19a_5Lp",
    "outputId": "5b841ce2-7afe-49ba-a104-55ec8f26eeb0"
   },
   "outputs": [
    {
     "data": {
      "text/plain": [
       "[0.54790052598474, 0.895202019599953]"
      ]
     },
     "execution_count": 19,
     "metadata": {
      "tags": []
     },
     "output_type": "execute_result"
    }
   ],
   "source": [
    "scores"
   ]
  },
  {
   "cell_type": "code",
   "execution_count": null,
   "metadata": {
    "colab": {
     "autoexec": {
      "startup": false,
      "wait_interval": 0
     }
    },
    "colab_type": "code",
    "id": "UHeLVu1r_5Lt",
    "outputId": "5871e3ef-7147-4a2a-95b2-06c2b1dae5fc"
   },
   "outputs": [
    {
     "name": "stdout",
     "output_type": "stream",
     "text": [
      "Epoch 1/10\n",
      "60/59 [==============================] - 32s 540ms/step - loss: 0.6274 - acc: 0.8603 - val_loss: 0.6386 - val_acc: 0.8776\n",
      "Epoch 2/10\n",
      "60/59 [==============================] - 32s 536ms/step - loss: 0.6046 - acc: 0.8704 - val_loss: 0.6126 - val_acc: 0.8776\n",
      "Epoch 3/10\n",
      "60/59 [==============================] - 32s 536ms/step - loss: 0.6036 - acc: 0.8709 - val_loss: 0.5758 - val_acc: 0.8827\n",
      "Epoch 4/10\n",
      "60/59 [==============================] - 32s 536ms/step - loss: 0.6081 - acc: 0.8690 - val_loss: 0.6047 - val_acc: 0.8827\n",
      "Epoch 5/10\n",
      "60/59 [==============================] - 32s 535ms/step - loss: 0.6001 - acc: 0.8700 - val_loss: 0.5996 - val_acc: 0.8980\n",
      "Epoch 6/10\n",
      "60/59 [==============================] - 32s 537ms/step - loss: 0.5955 - acc: 0.8687 - val_loss: 0.5968 - val_acc: 0.8929\n",
      "Epoch 7/10\n",
      "60/59 [==============================] - 32s 537ms/step - loss: 0.5777 - acc: 0.8807 - val_loss: 0.6508 - val_acc: 0.8724\n",
      "Epoch 8/10\n",
      "60/59 [==============================] - 32s 536ms/step - loss: 0.5781 - acc: 0.8736 - val_loss: 0.6490 - val_acc: 0.8673\n",
      "Epoch 9/10\n",
      "60/59 [==============================] - 32s 535ms/step - loss: 0.5950 - acc: 0.8781 - val_loss: 0.6256 - val_acc: 0.8776\n",
      "Epoch 10/10\n",
      "60/59 [==============================] - 32s 540ms/step - loss: 0.6054 - acc: 0.8706 - val_loss: 0.6311 - val_acc: 0.8827\n"
     ]
    },
    {
     "ename": "AttributeError",
     "evalue": "'NumpyArrayIterator' object has no attribute 'ndim'",
     "output_type": "error",
     "traceback": [
      "\u001b[0;31m---------------------------------------------------------------------------\u001b[0m",
      "\u001b[0;31mAttributeError\u001b[0m                            Traceback (most recent call last)",
      "\u001b[0;32m<ipython-input-4-0bf970d18670>\u001b[0m in \u001b[0;36m<module>\u001b[0;34m()\u001b[0m\n\u001b[1;32m      2\u001b[0m                     \u001b[0mvalidation_data\u001b[0m \u001b[0;34m=\u001b[0m \u001b[0mval_datagen\u001b[0m\u001b[0;34m.\u001b[0m\u001b[0mflow\u001b[0m\u001b[0;34m(\u001b[0m\u001b[0mx_val\u001b[0m\u001b[0;34m,\u001b[0m\u001b[0my_val\u001b[0m\u001b[0;34m,\u001b[0m\u001b[0mbatch_size\u001b[0m\u001b[0;34m=\u001b[0m \u001b[0;36m50\u001b[0m\u001b[0;34m)\u001b[0m\u001b[0;34m,\u001b[0m\u001b[0;34m\u001b[0m\u001b[0m\n\u001b[1;32m      3\u001b[0m                     steps_per_epoch=len(x_train) / 50, epochs=10)\n\u001b[0;32m----> 4\u001b[0;31m \u001b[0mscores\u001b[0m \u001b[0;34m=\u001b[0m \u001b[0mmodel_final\u001b[0m\u001b[0;34m.\u001b[0m\u001b[0mevaluate\u001b[0m\u001b[0;34m(\u001b[0m\u001b[0mtest_datagen\u001b[0m\u001b[0;34m.\u001b[0m\u001b[0mflow\u001b[0m\u001b[0;34m(\u001b[0m\u001b[0mx_test\u001b[0m\u001b[0;34m,\u001b[0m\u001b[0my_test\u001b[0m\u001b[0;34m,\u001b[0m\u001b[0mbatch_size\u001b[0m \u001b[0;34m=\u001b[0m \u001b[0;36m50\u001b[0m\u001b[0;34m)\u001b[0m\u001b[0;34m)\u001b[0m\u001b[0;34m\u001b[0m\u001b[0m\n\u001b[0m",
      "\u001b[0;32m/usr/local/lib/python3.6/dist-packages/keras/engine/training.py\u001b[0m in \u001b[0;36mevaluate\u001b[0;34m(self, x, y, batch_size, verbose, sample_weight, steps)\u001b[0m\n\u001b[1;32m   1766\u001b[0m             \u001b[0mx\u001b[0m\u001b[0;34m,\u001b[0m \u001b[0my\u001b[0m\u001b[0;34m,\u001b[0m\u001b[0;34m\u001b[0m\u001b[0m\n\u001b[1;32m   1767\u001b[0m             \u001b[0msample_weight\u001b[0m\u001b[0;34m=\u001b[0m\u001b[0msample_weight\u001b[0m\u001b[0;34m,\u001b[0m\u001b[0;34m\u001b[0m\u001b[0m\n\u001b[0;32m-> 1768\u001b[0;31m             batch_size=batch_size)\n\u001b[0m\u001b[1;32m   1769\u001b[0m         \u001b[0;31m# Prepare inputs, delegate logic to `_test_loop`.\u001b[0m\u001b[0;34m\u001b[0m\u001b[0;34m\u001b[0m\u001b[0m\n\u001b[1;32m   1770\u001b[0m         \u001b[0;32mif\u001b[0m \u001b[0mself\u001b[0m\u001b[0;34m.\u001b[0m\u001b[0muses_learning_phase\u001b[0m \u001b[0;32mand\u001b[0m \u001b[0;32mnot\u001b[0m \u001b[0misinstance\u001b[0m\u001b[0;34m(\u001b[0m\u001b[0mK\u001b[0m\u001b[0;34m.\u001b[0m\u001b[0mlearning_phase\u001b[0m\u001b[0;34m(\u001b[0m\u001b[0;34m)\u001b[0m\u001b[0;34m,\u001b[0m \u001b[0mint\u001b[0m\u001b[0;34m)\u001b[0m\u001b[0;34m:\u001b[0m\u001b[0;34m\u001b[0m\u001b[0m\n",
      "\u001b[0;32m/usr/local/lib/python3.6/dist-packages/keras/engine/training.py\u001b[0m in \u001b[0;36m_standardize_user_data\u001b[0;34m(self, x, y, sample_weight, class_weight, check_array_lengths, batch_size)\u001b[0m\n\u001b[1;32m   1474\u001b[0m                                     \u001b[0mself\u001b[0m\u001b[0;34m.\u001b[0m\u001b[0m_feed_input_shapes\u001b[0m\u001b[0;34m,\u001b[0m\u001b[0;34m\u001b[0m\u001b[0m\n\u001b[1;32m   1475\u001b[0m                                     \u001b[0mcheck_batch_axis\u001b[0m\u001b[0;34m=\u001b[0m\u001b[0;32mFalse\u001b[0m\u001b[0;34m,\u001b[0m\u001b[0;34m\u001b[0m\u001b[0m\n\u001b[0;32m-> 1476\u001b[0;31m                                     exception_prefix='input')\n\u001b[0m\u001b[1;32m   1477\u001b[0m         y = _standardize_input_data(y, self._feed_output_names,\n\u001b[1;32m   1478\u001b[0m                                     \u001b[0moutput_shapes\u001b[0m\u001b[0;34m,\u001b[0m\u001b[0;34m\u001b[0m\u001b[0m\n",
      "\u001b[0;32m/usr/local/lib/python3.6/dist-packages/keras/engine/training.py\u001b[0m in \u001b[0;36m_standardize_input_data\u001b[0;34m(data, names, shapes, check_batch_axis, exception_prefix)\u001b[0m\n\u001b[1;32m     74\u001b[0m         \u001b[0mdata\u001b[0m \u001b[0;34m=\u001b[0m \u001b[0mdata\u001b[0m\u001b[0;34m.\u001b[0m\u001b[0mvalues\u001b[0m \u001b[0;32mif\u001b[0m \u001b[0mdata\u001b[0m\u001b[0;34m.\u001b[0m\u001b[0m__class__\u001b[0m\u001b[0;34m.\u001b[0m\u001b[0m__name__\u001b[0m \u001b[0;34m==\u001b[0m \u001b[0;34m'DataFrame'\u001b[0m \u001b[0;32melse\u001b[0m \u001b[0mdata\u001b[0m\u001b[0;34m\u001b[0m\u001b[0m\n\u001b[1;32m     75\u001b[0m         \u001b[0mdata\u001b[0m \u001b[0;34m=\u001b[0m \u001b[0;34m[\u001b[0m\u001b[0mdata\u001b[0m\u001b[0;34m]\u001b[0m\u001b[0;34m\u001b[0m\u001b[0m\n\u001b[0;32m---> 76\u001b[0;31m     \u001b[0mdata\u001b[0m \u001b[0;34m=\u001b[0m \u001b[0;34m[\u001b[0m\u001b[0mnp\u001b[0m\u001b[0;34m.\u001b[0m\u001b[0mexpand_dims\u001b[0m\u001b[0;34m(\u001b[0m\u001b[0mx\u001b[0m\u001b[0;34m,\u001b[0m \u001b[0;36m1\u001b[0m\u001b[0;34m)\u001b[0m \u001b[0;32mif\u001b[0m \u001b[0mx\u001b[0m \u001b[0;32mis\u001b[0m \u001b[0;32mnot\u001b[0m \u001b[0;32mNone\u001b[0m \u001b[0;32mand\u001b[0m \u001b[0mx\u001b[0m\u001b[0;34m.\u001b[0m\u001b[0mndim\u001b[0m \u001b[0;34m==\u001b[0m \u001b[0;36m1\u001b[0m \u001b[0;32melse\u001b[0m \u001b[0mx\u001b[0m \u001b[0;32mfor\u001b[0m \u001b[0mx\u001b[0m \u001b[0;32min\u001b[0m \u001b[0mdata\u001b[0m\u001b[0;34m]\u001b[0m\u001b[0;34m\u001b[0m\u001b[0m\n\u001b[0m\u001b[1;32m     77\u001b[0m \u001b[0;34m\u001b[0m\u001b[0m\n\u001b[1;32m     78\u001b[0m     \u001b[0;32mif\u001b[0m \u001b[0mlen\u001b[0m\u001b[0;34m(\u001b[0m\u001b[0mdata\u001b[0m\u001b[0;34m)\u001b[0m \u001b[0;34m!=\u001b[0m \u001b[0mlen\u001b[0m\u001b[0;34m(\u001b[0m\u001b[0mnames\u001b[0m\u001b[0;34m)\u001b[0m\u001b[0;34m:\u001b[0m\u001b[0;34m\u001b[0m\u001b[0m\n",
      "\u001b[0;32m/usr/local/lib/python3.6/dist-packages/keras/engine/training.py\u001b[0m in \u001b[0;36m<listcomp>\u001b[0;34m(.0)\u001b[0m\n\u001b[1;32m     74\u001b[0m         \u001b[0mdata\u001b[0m \u001b[0;34m=\u001b[0m \u001b[0mdata\u001b[0m\u001b[0;34m.\u001b[0m\u001b[0mvalues\u001b[0m \u001b[0;32mif\u001b[0m \u001b[0mdata\u001b[0m\u001b[0;34m.\u001b[0m\u001b[0m__class__\u001b[0m\u001b[0;34m.\u001b[0m\u001b[0m__name__\u001b[0m \u001b[0;34m==\u001b[0m \u001b[0;34m'DataFrame'\u001b[0m \u001b[0;32melse\u001b[0m \u001b[0mdata\u001b[0m\u001b[0;34m\u001b[0m\u001b[0m\n\u001b[1;32m     75\u001b[0m         \u001b[0mdata\u001b[0m \u001b[0;34m=\u001b[0m \u001b[0;34m[\u001b[0m\u001b[0mdata\u001b[0m\u001b[0;34m]\u001b[0m\u001b[0;34m\u001b[0m\u001b[0m\n\u001b[0;32m---> 76\u001b[0;31m     \u001b[0mdata\u001b[0m \u001b[0;34m=\u001b[0m \u001b[0;34m[\u001b[0m\u001b[0mnp\u001b[0m\u001b[0;34m.\u001b[0m\u001b[0mexpand_dims\u001b[0m\u001b[0;34m(\u001b[0m\u001b[0mx\u001b[0m\u001b[0;34m,\u001b[0m \u001b[0;36m1\u001b[0m\u001b[0;34m)\u001b[0m \u001b[0;32mif\u001b[0m \u001b[0mx\u001b[0m \u001b[0;32mis\u001b[0m \u001b[0;32mnot\u001b[0m \u001b[0;32mNone\u001b[0m \u001b[0;32mand\u001b[0m \u001b[0mx\u001b[0m\u001b[0;34m.\u001b[0m\u001b[0mndim\u001b[0m \u001b[0;34m==\u001b[0m \u001b[0;36m1\u001b[0m \u001b[0;32melse\u001b[0m \u001b[0mx\u001b[0m \u001b[0;32mfor\u001b[0m \u001b[0mx\u001b[0m \u001b[0;32min\u001b[0m \u001b[0mdata\u001b[0m\u001b[0;34m]\u001b[0m\u001b[0;34m\u001b[0m\u001b[0m\n\u001b[0m\u001b[1;32m     77\u001b[0m \u001b[0;34m\u001b[0m\u001b[0m\n\u001b[1;32m     78\u001b[0m     \u001b[0;32mif\u001b[0m \u001b[0mlen\u001b[0m\u001b[0;34m(\u001b[0m\u001b[0mdata\u001b[0m\u001b[0;34m)\u001b[0m \u001b[0;34m!=\u001b[0m \u001b[0mlen\u001b[0m\u001b[0;34m(\u001b[0m\u001b[0mnames\u001b[0m\u001b[0;34m)\u001b[0m\u001b[0;34m:\u001b[0m\u001b[0;34m\u001b[0m\u001b[0m\n",
      "\u001b[0;31mAttributeError\u001b[0m: 'NumpyArrayIterator' object has no attribute 'ndim'"
     ]
    }
   ],
   "source": [
    "history = model_final.fit_generator(datagen.flow(x_train, y_train, batch_size=50),\n",
    "                    validation_data = val_datagen.flow(x_val,y_val,batch_size= 50),\n",
    "                    steps_per_epoch=len(x_train) / 50, epochs=10)\n",
    "scores = model_final.evaluate(x_test,y_test,batch_size = 50)"
   ]
  },
  {
   "cell_type": "code",
   "execution_count": null,
   "metadata": {
    "colab": {
     "autoexec": {
      "startup": false,
      "wait_interval": 0
     }
    },
    "colab_type": "code",
    "id": "YguicIYH_5Lu",
    "outputId": "929d844a-f36c-4014-b761-c023b666edbb"
   },
   "outputs": [
    {
     "name": "stdout",
     "output_type": "stream",
     "text": [
      "792/792 [==============================] - 11s 14ms/step\n"
     ]
    },
    {
     "ename": "NameError",
     "evalue": "name 'score' is not defined",
     "output_type": "error",
     "traceback": [
      "\u001b[0;31m---------------------------------------------------------------------------\u001b[0m",
      "\u001b[0;31mNameError\u001b[0m                                 Traceback (most recent call last)",
      "\u001b[0;32m<ipython-input-5-644241d93e58>\u001b[0m in \u001b[0;36m<module>\u001b[0;34m()\u001b[0m\n\u001b[1;32m      1\u001b[0m \u001b[0mscores\u001b[0m \u001b[0;34m=\u001b[0m \u001b[0mmodel_final\u001b[0m\u001b[0;34m.\u001b[0m\u001b[0mevaluate\u001b[0m\u001b[0;34m(\u001b[0m\u001b[0mx_test\u001b[0m\u001b[0;34m,\u001b[0m\u001b[0my_test\u001b[0m\u001b[0;34m,\u001b[0m\u001b[0mbatch_size\u001b[0m \u001b[0;34m=\u001b[0m \u001b[0;36m50\u001b[0m\u001b[0;34m)\u001b[0m\u001b[0;34m\u001b[0m\u001b[0m\n\u001b[0;32m----> 2\u001b[0;31m \u001b[0mscore\u001b[0m\u001b[0;34m\u001b[0m\u001b[0m\n\u001b[0m",
      "\u001b[0;31mNameError\u001b[0m: name 'score' is not defined"
     ]
    }
   ],
   "source": []
  },
  {
   "cell_type": "code",
   "execution_count": null,
   "metadata": {
    "colab": {
     "autoexec": {
      "startup": false,
      "wait_interval": 0
     }
    },
    "colab_type": "code",
    "id": "Xib5mJ56_5Lx",
    "outputId": "eb0aa223-2637-4d51-b866-d4181cf791b4"
   },
   "outputs": [
    {
     "data": {
      "text/plain": [
       "[0.6224027393442212, 0.8661616075821598]"
      ]
     },
     "execution_count": 6,
     "metadata": {
      "tags": []
     },
     "output_type": "execute_result"
    }
   ],
   "source": [
    "scores"
   ]
  },
  {
   "cell_type": "code",
   "execution_count": null,
   "metadata": {
    "colab": {
     "autoexec": {
      "startup": false,
      "wait_interval": 0
     }
    },
    "colab_type": "code",
    "id": "EbRa061o_5Ly",
    "outputId": "366ee0f0-bc44-4490-e2b8-c281277aed58"
   },
   "outputs": [
    {
     "name": "stderr",
     "output_type": "stream",
     "text": [
      "/usr/local/lib/python3.6/dist-packages/ipykernel_launcher.py:49: UserWarning: Update your `Model` call to the Keras 2 API: `Model(inputs=Tensor(\"in..., outputs=Tensor(\"de...)`\n"
     ]
    },
    {
     "name": "stdout",
     "output_type": "stream",
     "text": [
      "Train on 2771 samples, validate on 394 samples\n",
      "Epoch 1/20\n",
      "2771/2771 [==============================] - 33s 12ms/step - loss: 0.9199 - acc: 0.7766 - val_loss: 0.6700 - val_acc: 0.8426\n",
      "Epoch 2/20\n",
      "2771/2771 [==============================] - 32s 12ms/step - loss: 0.6880 - acc: 0.8423 - val_loss: 0.6375 - val_acc: 0.8528\n",
      "Epoch 3/20\n",
      "2771/2771 [==============================] - 32s 12ms/step - loss: 0.6868 - acc: 0.8430 - val_loss: 0.6435 - val_acc: 0.8452\n",
      "Epoch 4/20\n",
      "2771/2771 [==============================] - 32s 12ms/step - loss: 0.6790 - acc: 0.8459 - val_loss: 0.6453 - val_acc: 0.8503\n",
      "Epoch 5/20\n",
      "2771/2771 [==============================] - 32s 12ms/step - loss: 0.6730 - acc: 0.8499 - val_loss: 0.6392 - val_acc: 0.8452\n",
      "Epoch 6/20\n",
      "2771/2771 [==============================] - 32s 12ms/step - loss: 0.6607 - acc: 0.8582 - val_loss: 0.6339 - val_acc: 0.8452\n",
      "Epoch 7/20\n",
      "2771/2771 [==============================] - 32s 12ms/step - loss: 0.6615 - acc: 0.8538 - val_loss: 0.6469 - val_acc: 0.8376\n",
      "Epoch 8/20\n",
      "2771/2771 [==============================] - 32s 12ms/step - loss: 0.6482 - acc: 0.8571 - val_loss: 0.6295 - val_acc: 0.8477\n",
      "Epoch 9/20\n",
      "2771/2771 [==============================] - 32s 12ms/step - loss: 0.6613 - acc: 0.8481 - val_loss: 0.6270 - val_acc: 0.8477\n",
      "Epoch 10/20\n",
      "2771/2771 [==============================] - 32s 12ms/step - loss: 0.6456 - acc: 0.8538 - val_loss: 0.6245 - val_acc: 0.8477\n",
      "Epoch 11/20\n",
      "2771/2771 [==============================] - 32s 12ms/step - loss: 0.6394 - acc: 0.8596 - val_loss: 0.6330 - val_acc: 0.8426\n",
      "Epoch 12/20\n",
      "2771/2771 [==============================] - 32s 12ms/step - loss: 0.6286 - acc: 0.8650 - val_loss: 0.6280 - val_acc: 0.8528\n",
      "Epoch 13/20\n",
      "2771/2771 [==============================] - 32s 12ms/step - loss: 0.6358 - acc: 0.8546 - val_loss: 0.6296 - val_acc: 0.8528\n",
      "Epoch 14/20\n",
      "2771/2771 [==============================] - 32s 12ms/step - loss: 0.6177 - acc: 0.8611 - val_loss: 0.6262 - val_acc: 0.8503\n",
      "Epoch 15/20\n",
      "2771/2771 [==============================] - 32s 12ms/step - loss: 0.6349 - acc: 0.8632 - val_loss: 0.6229 - val_acc: 0.8528\n",
      "Epoch 16/20\n",
      "2771/2771 [==============================] - 32s 12ms/step - loss: 0.6213 - acc: 0.8658 - val_loss: 0.6283 - val_acc: 0.8553\n",
      "Epoch 17/20\n",
      " 650/2771 [======>.......................] - ETA: 21s - loss: 0.6052 - acc: 0.8800"
     ]
    },
    {
     "ename": "KeyboardInterrupt",
     "evalue": "",
     "output_type": "error",
     "traceback": [
      "\u001b[0;31m---------------------------------------------------------------------------\u001b[0m",
      "\u001b[0;31mKeyboardInterrupt\u001b[0m                         Traceback (most recent call last)",
      "\u001b[0;32m<ipython-input-5-36176a158296>\u001b[0m in \u001b[0;36m<module>\u001b[0;34m()\u001b[0m\n\u001b[1;32m     52\u001b[0m \u001b[0mmodel_final\u001b[0m\u001b[0;34m.\u001b[0m\u001b[0mcompile\u001b[0m\u001b[0;34m(\u001b[0m\u001b[0mloss\u001b[0m \u001b[0;34m=\u001b[0m \u001b[0;34m\"categorical_crossentropy\"\u001b[0m\u001b[0;34m,\u001b[0m \u001b[0moptimizer\u001b[0m \u001b[0;34m=\u001b[0m \u001b[0mkeras\u001b[0m\u001b[0;34m.\u001b[0m\u001b[0moptimizers\u001b[0m\u001b[0;34m.\u001b[0m\u001b[0mAdam\u001b[0m\u001b[0;34m(\u001b[0m\u001b[0mlr\u001b[0m\u001b[0;34m=\u001b[0m\u001b[0;36m0.001\u001b[0m\u001b[0;34m,\u001b[0m \u001b[0mbeta_1\u001b[0m\u001b[0;34m=\u001b[0m\u001b[0;36m0.9\u001b[0m\u001b[0;34m,\u001b[0m \u001b[0mbeta_2\u001b[0m\u001b[0;34m=\u001b[0m\u001b[0;36m0.999\u001b[0m\u001b[0;34m,\u001b[0m \u001b[0mepsilon\u001b[0m\u001b[0;34m=\u001b[0m\u001b[0;32mNone\u001b[0m\u001b[0;34m,\u001b[0m \u001b[0mdecay\u001b[0m\u001b[0;34m=\u001b[0m\u001b[0;36m0.0\u001b[0m\u001b[0;34m,\u001b[0m \u001b[0mamsgrad\u001b[0m\u001b[0;34m=\u001b[0m\u001b[0;32mFalse\u001b[0m\u001b[0;34m)\u001b[0m\u001b[0;34m,\u001b[0m \u001b[0mmetrics\u001b[0m\u001b[0;34m=\u001b[0m\u001b[0;34m[\u001b[0m\u001b[0;34m\"accuracy\"\u001b[0m\u001b[0;34m]\u001b[0m\u001b[0;34m)\u001b[0m\u001b[0;34m\u001b[0m\u001b[0m\n\u001b[1;32m     53\u001b[0m \u001b[0;34m\u001b[0m\u001b[0m\n\u001b[0;32m---> 54\u001b[0;31m \u001b[0mhistory\u001b[0m \u001b[0;34m=\u001b[0m \u001b[0mmodel_final\u001b[0m\u001b[0;34m.\u001b[0m\u001b[0mfit\u001b[0m\u001b[0;34m(\u001b[0m\u001b[0mx\u001b[0m\u001b[0;34m=\u001b[0m\u001b[0mx_train\u001b[0m\u001b[0;34m,\u001b[0m\u001b[0my\u001b[0m\u001b[0;34m=\u001b[0m\u001b[0my_train\u001b[0m\u001b[0;34m,\u001b[0m\u001b[0mvalidation_data\u001b[0m\u001b[0;34m=\u001b[0m\u001b[0;34m(\u001b[0m\u001b[0mx_val\u001b[0m\u001b[0;34m,\u001b[0m\u001b[0my_val\u001b[0m\u001b[0;34m)\u001b[0m\u001b[0;34m,\u001b[0m\u001b[0mbatch_size\u001b[0m\u001b[0;34m=\u001b[0m\u001b[0;36m50\u001b[0m\u001b[0;34m,\u001b[0m\u001b[0mepochs\u001b[0m\u001b[0;34m=\u001b[0m\u001b[0;36m20\u001b[0m\u001b[0;34m)\u001b[0m\u001b[0;34m\u001b[0m\u001b[0m\n\u001b[0m\u001b[1;32m     55\u001b[0m \u001b[0mscores\u001b[0m \u001b[0;34m=\u001b[0m \u001b[0mmodel_final\u001b[0m\u001b[0;34m.\u001b[0m\u001b[0mevaluate\u001b[0m\u001b[0;34m(\u001b[0m\u001b[0mx_test\u001b[0m\u001b[0;34m,\u001b[0m\u001b[0my_test\u001b[0m\u001b[0;34m,\u001b[0m\u001b[0mbatch_size\u001b[0m \u001b[0;34m=\u001b[0m \u001b[0;36m50\u001b[0m\u001b[0;34m)\u001b[0m\u001b[0;34m\u001b[0m\u001b[0m\n",
      "\u001b[0;32m/usr/local/lib/python3.6/dist-packages/keras/engine/training.py\u001b[0m in \u001b[0;36mfit\u001b[0;34m(self, x, y, batch_size, epochs, verbose, callbacks, validation_split, validation_data, shuffle, class_weight, sample_weight, initial_epoch, steps_per_epoch, validation_steps, **kwargs)\u001b[0m\n\u001b[1;32m   1703\u001b[0m                               \u001b[0minitial_epoch\u001b[0m\u001b[0;34m=\u001b[0m\u001b[0minitial_epoch\u001b[0m\u001b[0;34m,\u001b[0m\u001b[0;34m\u001b[0m\u001b[0m\n\u001b[1;32m   1704\u001b[0m                               \u001b[0msteps_per_epoch\u001b[0m\u001b[0;34m=\u001b[0m\u001b[0msteps_per_epoch\u001b[0m\u001b[0;34m,\u001b[0m\u001b[0;34m\u001b[0m\u001b[0m\n\u001b[0;32m-> 1705\u001b[0;31m                               validation_steps=validation_steps)\n\u001b[0m\u001b[1;32m   1706\u001b[0m \u001b[0;34m\u001b[0m\u001b[0m\n\u001b[1;32m   1707\u001b[0m     def evaluate(self, x=None, y=None,\n",
      "\u001b[0;32m/usr/local/lib/python3.6/dist-packages/keras/engine/training.py\u001b[0m in \u001b[0;36m_fit_loop\u001b[0;34m(self, f, ins, out_labels, batch_size, epochs, verbose, callbacks, val_f, val_ins, shuffle, callback_metrics, initial_epoch, steps_per_epoch, validation_steps)\u001b[0m\n\u001b[1;32m   1234\u001b[0m                         \u001b[0mins_batch\u001b[0m\u001b[0;34m[\u001b[0m\u001b[0mi\u001b[0m\u001b[0;34m]\u001b[0m \u001b[0;34m=\u001b[0m \u001b[0mins_batch\u001b[0m\u001b[0;34m[\u001b[0m\u001b[0mi\u001b[0m\u001b[0;34m]\u001b[0m\u001b[0;34m.\u001b[0m\u001b[0mtoarray\u001b[0m\u001b[0;34m(\u001b[0m\u001b[0;34m)\u001b[0m\u001b[0;34m\u001b[0m\u001b[0m\n\u001b[1;32m   1235\u001b[0m \u001b[0;34m\u001b[0m\u001b[0m\n\u001b[0;32m-> 1236\u001b[0;31m                     \u001b[0mouts\u001b[0m \u001b[0;34m=\u001b[0m \u001b[0mf\u001b[0m\u001b[0;34m(\u001b[0m\u001b[0mins_batch\u001b[0m\u001b[0;34m)\u001b[0m\u001b[0;34m\u001b[0m\u001b[0m\n\u001b[0m\u001b[1;32m   1237\u001b[0m                     \u001b[0;32mif\u001b[0m \u001b[0;32mnot\u001b[0m \u001b[0misinstance\u001b[0m\u001b[0;34m(\u001b[0m\u001b[0mouts\u001b[0m\u001b[0;34m,\u001b[0m \u001b[0mlist\u001b[0m\u001b[0;34m)\u001b[0m\u001b[0;34m:\u001b[0m\u001b[0;34m\u001b[0m\u001b[0m\n\u001b[1;32m   1238\u001b[0m                         \u001b[0mouts\u001b[0m \u001b[0;34m=\u001b[0m \u001b[0;34m[\u001b[0m\u001b[0mouts\u001b[0m\u001b[0;34m]\u001b[0m\u001b[0;34m\u001b[0m\u001b[0m\n",
      "\u001b[0;32m/usr/local/lib/python3.6/dist-packages/keras/backend/tensorflow_backend.py\u001b[0m in \u001b[0;36m__call__\u001b[0;34m(self, inputs)\u001b[0m\n\u001b[1;32m   2480\u001b[0m         \u001b[0msession\u001b[0m \u001b[0;34m=\u001b[0m \u001b[0mget_session\u001b[0m\u001b[0;34m(\u001b[0m\u001b[0;34m)\u001b[0m\u001b[0;34m\u001b[0m\u001b[0m\n\u001b[1;32m   2481\u001b[0m         updated = session.run(fetches=fetches, feed_dict=feed_dict,\n\u001b[0;32m-> 2482\u001b[0;31m                               **self.session_kwargs)\n\u001b[0m\u001b[1;32m   2483\u001b[0m         \u001b[0;32mreturn\u001b[0m \u001b[0mupdated\u001b[0m\u001b[0;34m[\u001b[0m\u001b[0;34m:\u001b[0m\u001b[0mlen\u001b[0m\u001b[0;34m(\u001b[0m\u001b[0mself\u001b[0m\u001b[0;34m.\u001b[0m\u001b[0moutputs\u001b[0m\u001b[0;34m)\u001b[0m\u001b[0;34m]\u001b[0m\u001b[0;34m\u001b[0m\u001b[0m\n\u001b[1;32m   2484\u001b[0m \u001b[0;34m\u001b[0m\u001b[0m\n",
      "\u001b[0;32m/usr/local/lib/python3.6/dist-packages/tensorflow/python/client/session.py\u001b[0m in \u001b[0;36mrun\u001b[0;34m(self, fetches, feed_dict, options, run_metadata)\u001b[0m\n\u001b[1;32m    898\u001b[0m     \u001b[0;32mtry\u001b[0m\u001b[0;34m:\u001b[0m\u001b[0;34m\u001b[0m\u001b[0m\n\u001b[1;32m    899\u001b[0m       result = self._run(None, fetches, feed_dict, options_ptr,\n\u001b[0;32m--> 900\u001b[0;31m                          run_metadata_ptr)\n\u001b[0m\u001b[1;32m    901\u001b[0m       \u001b[0;32mif\u001b[0m \u001b[0mrun_metadata\u001b[0m\u001b[0;34m:\u001b[0m\u001b[0;34m\u001b[0m\u001b[0m\n\u001b[1;32m    902\u001b[0m         \u001b[0mproto_data\u001b[0m \u001b[0;34m=\u001b[0m \u001b[0mtf_session\u001b[0m\u001b[0;34m.\u001b[0m\u001b[0mTF_GetBuffer\u001b[0m\u001b[0;34m(\u001b[0m\u001b[0mrun_metadata_ptr\u001b[0m\u001b[0;34m)\u001b[0m\u001b[0;34m\u001b[0m\u001b[0m\n",
      "\u001b[0;32m/usr/local/lib/python3.6/dist-packages/tensorflow/python/client/session.py\u001b[0m in \u001b[0;36m_run\u001b[0;34m(self, handle, fetches, feed_dict, options, run_metadata)\u001b[0m\n\u001b[1;32m   1133\u001b[0m     \u001b[0;32mif\u001b[0m \u001b[0mfinal_fetches\u001b[0m \u001b[0;32mor\u001b[0m \u001b[0mfinal_targets\u001b[0m \u001b[0;32mor\u001b[0m \u001b[0;34m(\u001b[0m\u001b[0mhandle\u001b[0m \u001b[0;32mand\u001b[0m \u001b[0mfeed_dict_tensor\u001b[0m\u001b[0;34m)\u001b[0m\u001b[0;34m:\u001b[0m\u001b[0;34m\u001b[0m\u001b[0m\n\u001b[1;32m   1134\u001b[0m       results = self._do_run(handle, final_targets, final_fetches,\n\u001b[0;32m-> 1135\u001b[0;31m                              feed_dict_tensor, options, run_metadata)\n\u001b[0m\u001b[1;32m   1136\u001b[0m     \u001b[0;32melse\u001b[0m\u001b[0;34m:\u001b[0m\u001b[0;34m\u001b[0m\u001b[0m\n\u001b[1;32m   1137\u001b[0m       \u001b[0mresults\u001b[0m \u001b[0;34m=\u001b[0m \u001b[0;34m[\u001b[0m\u001b[0;34m]\u001b[0m\u001b[0;34m\u001b[0m\u001b[0m\n",
      "\u001b[0;32m/usr/local/lib/python3.6/dist-packages/tensorflow/python/client/session.py\u001b[0m in \u001b[0;36m_do_run\u001b[0;34m(self, handle, target_list, fetch_list, feed_dict, options, run_metadata)\u001b[0m\n\u001b[1;32m   1314\u001b[0m     \u001b[0;32mif\u001b[0m \u001b[0mhandle\u001b[0m \u001b[0;32mis\u001b[0m \u001b[0;32mNone\u001b[0m\u001b[0;34m:\u001b[0m\u001b[0;34m\u001b[0m\u001b[0m\n\u001b[1;32m   1315\u001b[0m       return self._do_call(_run_fn, feeds, fetches, targets, options,\n\u001b[0;32m-> 1316\u001b[0;31m                            run_metadata)\n\u001b[0m\u001b[1;32m   1317\u001b[0m     \u001b[0;32melse\u001b[0m\u001b[0;34m:\u001b[0m\u001b[0;34m\u001b[0m\u001b[0m\n\u001b[1;32m   1318\u001b[0m       \u001b[0;32mreturn\u001b[0m \u001b[0mself\u001b[0m\u001b[0;34m.\u001b[0m\u001b[0m_do_call\u001b[0m\u001b[0;34m(\u001b[0m\u001b[0m_prun_fn\u001b[0m\u001b[0;34m,\u001b[0m \u001b[0mhandle\u001b[0m\u001b[0;34m,\u001b[0m \u001b[0mfeeds\u001b[0m\u001b[0;34m,\u001b[0m \u001b[0mfetches\u001b[0m\u001b[0;34m)\u001b[0m\u001b[0;34m\u001b[0m\u001b[0m\n",
      "\u001b[0;32m/usr/local/lib/python3.6/dist-packages/tensorflow/python/client/session.py\u001b[0m in \u001b[0;36m_do_call\u001b[0;34m(self, fn, *args)\u001b[0m\n\u001b[1;32m   1320\u001b[0m   \u001b[0;32mdef\u001b[0m \u001b[0m_do_call\u001b[0m\u001b[0;34m(\u001b[0m\u001b[0mself\u001b[0m\u001b[0;34m,\u001b[0m \u001b[0mfn\u001b[0m\u001b[0;34m,\u001b[0m \u001b[0;34m*\u001b[0m\u001b[0margs\u001b[0m\u001b[0;34m)\u001b[0m\u001b[0;34m:\u001b[0m\u001b[0;34m\u001b[0m\u001b[0m\n\u001b[1;32m   1321\u001b[0m     \u001b[0;32mtry\u001b[0m\u001b[0;34m:\u001b[0m\u001b[0;34m\u001b[0m\u001b[0m\n\u001b[0;32m-> 1322\u001b[0;31m       \u001b[0;32mreturn\u001b[0m \u001b[0mfn\u001b[0m\u001b[0;34m(\u001b[0m\u001b[0;34m*\u001b[0m\u001b[0margs\u001b[0m\u001b[0;34m)\u001b[0m\u001b[0;34m\u001b[0m\u001b[0m\n\u001b[0m\u001b[1;32m   1323\u001b[0m     \u001b[0;32mexcept\u001b[0m \u001b[0merrors\u001b[0m\u001b[0;34m.\u001b[0m\u001b[0mOpError\u001b[0m \u001b[0;32mas\u001b[0m \u001b[0me\u001b[0m\u001b[0;34m:\u001b[0m\u001b[0;34m\u001b[0m\u001b[0m\n\u001b[1;32m   1324\u001b[0m       \u001b[0mmessage\u001b[0m \u001b[0;34m=\u001b[0m \u001b[0mcompat\u001b[0m\u001b[0;34m.\u001b[0m\u001b[0mas_text\u001b[0m\u001b[0;34m(\u001b[0m\u001b[0me\u001b[0m\u001b[0;34m.\u001b[0m\u001b[0mmessage\u001b[0m\u001b[0;34m)\u001b[0m\u001b[0;34m\u001b[0m\u001b[0m\n",
      "\u001b[0;32m/usr/local/lib/python3.6/dist-packages/tensorflow/python/client/session.py\u001b[0m in \u001b[0;36m_run_fn\u001b[0;34m(feed_dict, fetch_list, target_list, options, run_metadata)\u001b[0m\n\u001b[1;32m   1305\u001b[0m       \u001b[0mself\u001b[0m\u001b[0;34m.\u001b[0m\u001b[0m_extend_graph\u001b[0m\u001b[0;34m(\u001b[0m\u001b[0;34m)\u001b[0m\u001b[0;34m\u001b[0m\u001b[0m\n\u001b[1;32m   1306\u001b[0m       return self._call_tf_sessionrun(\n\u001b[0;32m-> 1307\u001b[0;31m           options, feed_dict, fetch_list, target_list, run_metadata)\n\u001b[0m\u001b[1;32m   1308\u001b[0m \u001b[0;34m\u001b[0m\u001b[0m\n\u001b[1;32m   1309\u001b[0m     \u001b[0;32mdef\u001b[0m \u001b[0m_prun_fn\u001b[0m\u001b[0;34m(\u001b[0m\u001b[0mhandle\u001b[0m\u001b[0;34m,\u001b[0m \u001b[0mfeed_dict\u001b[0m\u001b[0;34m,\u001b[0m \u001b[0mfetch_list\u001b[0m\u001b[0;34m)\u001b[0m\u001b[0;34m:\u001b[0m\u001b[0;34m\u001b[0m\u001b[0m\n",
      "\u001b[0;32m/usr/local/lib/python3.6/dist-packages/tensorflow/python/client/session.py\u001b[0m in \u001b[0;36m_call_tf_sessionrun\u001b[0;34m(self, options, feed_dict, fetch_list, target_list, run_metadata)\u001b[0m\n\u001b[1;32m   1407\u001b[0m       return tf_session.TF_SessionRun_wrapper(\n\u001b[1;32m   1408\u001b[0m           \u001b[0mself\u001b[0m\u001b[0;34m.\u001b[0m\u001b[0m_session\u001b[0m\u001b[0;34m,\u001b[0m \u001b[0moptions\u001b[0m\u001b[0;34m,\u001b[0m \u001b[0mfeed_dict\u001b[0m\u001b[0;34m,\u001b[0m \u001b[0mfetch_list\u001b[0m\u001b[0;34m,\u001b[0m \u001b[0mtarget_list\u001b[0m\u001b[0;34m,\u001b[0m\u001b[0;34m\u001b[0m\u001b[0m\n\u001b[0;32m-> 1409\u001b[0;31m           run_metadata)\n\u001b[0m\u001b[1;32m   1410\u001b[0m     \u001b[0;32melse\u001b[0m\u001b[0;34m:\u001b[0m\u001b[0;34m\u001b[0m\u001b[0m\n\u001b[1;32m   1411\u001b[0m       \u001b[0;32mwith\u001b[0m \u001b[0merrors\u001b[0m\u001b[0;34m.\u001b[0m\u001b[0mraise_exception_on_not_ok_status\u001b[0m\u001b[0;34m(\u001b[0m\u001b[0;34m)\u001b[0m \u001b[0;32mas\u001b[0m \u001b[0mstatus\u001b[0m\u001b[0;34m:\u001b[0m\u001b[0;34m\u001b[0m\u001b[0m\n",
      "\u001b[0;31mKeyboardInterrupt\u001b[0m: "
     ]
    }
   ],
   "source": [
    "from keras.preprocessing.image import ImageDataGenerator\n",
    "from sklearn.model_selection import KFold\n",
    "\n",
    "for layer in model.layers:\n",
    "    layer.trainable = False\n",
    "\n",
    "index = np.arange(0,x_data.shape[0])\n",
    "np.random.shuffle(index)\n",
    "\n",
    "train_index = int(x_data.shape[0]*70/100)\n",
    "val_num = int(x_data.shape[0]*10/100)\n",
    "\n",
    "x_data = x_data[index]\n",
    "y_data = y_data[index]\n",
    "\n",
    "x_train = x_data[0:train_index,:]\n",
    "y_train = y_data[0:train_index,:]\n",
    "x_val = x_data[train_index+ 1:train_index+ val_num,:]\n",
    "y_val = y_data[train_index+ 1:train_index+ val_num,:]\n",
    "x_test = x_data[train_index+ val_num+1:,:]\n",
    "y_test = y_data[train_index+ val_num+1:,:]\n",
    "\n",
    "#Adding custom Layers \n",
    "x = model.output\n",
    "x = Dense(1024,activation='relu')(x)\n",
    "x = Dropout(0.5)(x)\n",
    "x = Dense(1024,activation='relu')(x)\n",
    "x = Dropout(0.5)(x)\n",
    "predictions = Dense(4, activation=\"softmax\")(x)\n",
    "\n",
    "# creating the final model \n",
    "model_final = Model(input = model.input, output = predictions)\n",
    "\n",
    "# compile the model \n",
    "model_final.compile(loss = \"categorical_crossentropy\", optimizer = keras.optimizers.Adam(lr=0.001, beta_1=0.9, beta_2=0.999, epsilon=None, decay=0.0, amsgrad=False), metrics=[\"accuracy\"])\n",
    "\n",
    "history = model_final.fit(x=x_train,y=y_train,validation_data=(x_val,y_val),batch_size=48,epochs=20)\n",
    "scores = model_final.evaluate(x_test,y_test,batch_size = 48)"
   ]
  },
  {
   "cell_type": "code",
   "execution_count": null,
   "metadata": {
    "colab": {
     "autoexec": {
      "startup": false,
      "wait_interval": 0
     }
    },
    "colab_type": "code",
    "id": "IZFv7J_g_5L2",
    "outputId": "a52a56c8-970f-471e-9180-a2f906cf96e2"
   },
   "outputs": [
    {
     "name": "stdout",
     "output_type": "stream",
     "text": [
      "_________________________________________________________________\n",
      "Layer (type)                 Output Shape              Param #   \n",
      "=================================================================\n",
      "input_2 (InputLayer)         (None, 224, 224, 3)       0         \n",
      "_________________________________________________________________\n",
      "block1_conv1 (Conv2D)        (None, 224, 224, 64)      1792      \n",
      "_________________________________________________________________\n",
      "block1_conv2 (Conv2D)        (None, 224, 224, 64)      36928     \n",
      "_________________________________________________________________\n",
      "block1_pool (MaxPooling2D)   (None, 112, 112, 64)      0         \n",
      "_________________________________________________________________\n",
      "block2_conv1 (Conv2D)        (None, 112, 112, 128)     73856     \n",
      "_________________________________________________________________\n",
      "block2_conv2 (Conv2D)        (None, 112, 112, 128)     147584    \n",
      "_________________________________________________________________\n",
      "block2_pool (MaxPooling2D)   (None, 56, 56, 128)       0         \n",
      "_________________________________________________________________\n",
      "block3_conv1 (Conv2D)        (None, 56, 56, 256)       295168    \n",
      "_________________________________________________________________\n",
      "block3_conv2 (Conv2D)        (None, 56, 56, 256)       590080    \n",
      "_________________________________________________________________\n",
      "block3_conv3 (Conv2D)        (None, 56, 56, 256)       590080    \n",
      "_________________________________________________________________\n",
      "block3_pool (MaxPooling2D)   (None, 28, 28, 256)       0         \n",
      "_________________________________________________________________\n",
      "block4_conv1 (Conv2D)        (None, 28, 28, 512)       1180160   \n",
      "_________________________________________________________________\n",
      "block4_conv2 (Conv2D)        (None, 28, 28, 512)       2359808   \n",
      "_________________________________________________________________\n",
      "block4_conv3 (Conv2D)        (None, 28, 28, 512)       2359808   \n",
      "_________________________________________________________________\n",
      "block4_pool (MaxPooling2D)   (None, 14, 14, 512)       0         \n",
      "_________________________________________________________________\n",
      "block5_conv1 (Conv2D)        (None, 14, 14, 512)       2359808   \n",
      "_________________________________________________________________\n",
      "block5_conv2 (Conv2D)        (None, 14, 14, 512)       2359808   \n",
      "_________________________________________________________________\n",
      "block5_conv3 (Conv2D)        (None, 14, 14, 512)       2359808   \n",
      "_________________________________________________________________\n",
      "block5_pool (MaxPooling2D)   (None, 7, 7, 512)         0         \n",
      "_________________________________________________________________\n",
      "flatten (Flatten)            (None, 25088)             0         \n",
      "_________________________________________________________________\n",
      "fc1 (Dense)                  (None, 4096)              102764544 \n",
      "_________________________________________________________________\n",
      "drop_fc1 (Dropout)           (None, 4096)              0         \n",
      "_________________________________________________________________\n",
      "fc2 (Dense)                  (None, 4096)              16781312  \n",
      "_________________________________________________________________\n",
      "drop_fc2 (Dropout)           (None, 4096)              0         \n",
      "_________________________________________________________________\n",
      "predictions (Dense)          (None, 365)               1495405   \n",
      "=================================================================\n",
      "Total params: 135,755,949\n",
      "Trainable params: 135,755,949\n",
      "Non-trainable params: 0\n",
      "_________________________________________________________________\n"
     ]
    }
   ],
   "source": [
    "model.summary()"
   ]
  },
  {
   "cell_type": "code",
   "execution_count": null,
   "metadata": {
    "colab": {
     "autoexec": {
      "startup": false,
      "wait_interval": 0
     }
    },
    "colab_type": "code",
    "id": "1zmVDGmk_5L4"
   },
   "outputs": [],
   "source": []
  }
 ],
 "metadata": {
  "colab": {
   "collapsed_sections": [],
   "default_view": {},
   "name": "Untitled1.ipynb",
   "provenance": [],
   "version": "0.3.2",
   "views": {}
  },
  "kernelspec": {
   "display_name": "Python 3",
   "language": "python",
   "name": "python3"
  },
  "language_info": {
   "codemirror_mode": {
    "name": "ipython",
    "version": 3
   },
   "file_extension": ".py",
   "mimetype": "text/x-python",
   "name": "python",
   "nbconvert_exporter": "python",
   "pygments_lexer": "ipython3",
   "version": "3.6.3"
  }
 },
 "nbformat": 4,
 "nbformat_minor": 2
}
